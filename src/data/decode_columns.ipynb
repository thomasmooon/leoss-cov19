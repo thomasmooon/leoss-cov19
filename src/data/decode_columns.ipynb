{
 "metadata": {
  "language_info": {
   "codemirror_mode": {
    "name": "ipython",
    "version": 3
   },
   "file_extension": ".py",
   "mimetype": "text/x-python",
   "name": "python",
   "nbconvert_exporter": "python",
   "pygments_lexer": "ipython3",
   "version": "3.8.5"
  },
  "orig_nbformat": 2,
  "kernelspec": {
   "name": "python385jvsc74a57bd09c5adde0ef242aa966dd4cf6843e6b67d1a0cf684787a2d5f3183f559ea01f09",
   "display_name": "Python 3.8.5 64-bit ('coperimo_tests': conda)"
  }
 },
 "nbformat": 4,
 "nbformat_minor": 2,
 "cells": [
  {
   "source": [
    "tasks:\n",
    "- take the data with cleaned missingness and encode columns.\n",
    "- to encode columns, join original column names using `master` to `data_miss`.\n",
    "- then used the original column names to retrieve the decodings from `lookup`\n"
   ],
   "cell_type": "markdown",
   "metadata": {}
  },
  {
   "cell_type": "code",
   "execution_count": 1,
   "metadata": {},
   "outputs": [],
   "source": [
    "# imports\n",
    "import numpy as np\n",
    "import pandas as pd\n",
    "import matplotlib.pyplot as plot"
   ]
  },
  {
   "cell_type": "code",
   "execution_count": 2,
   "metadata": {},
   "outputs": [
    {
     "output_type": "stream",
     "name": "stdout",
     "text": [
      "lookup1.shape (25, 142)\n",
      "lookup2.shape (1053, 4854)\n",
      "master.shape (2588, 9)\n",
      "lookup.shape (1053, 4996)\n",
      "data_miss.shape (6241, 222)\n"
     ]
    }
   ],
   "source": [
    "# load data\n",
    "path = r\"../../data/interim/Lookup_V2variables_share_utf8.csv\"\n",
    "lookup1 = pd.read_csv(path, sep=\";\")\n",
    "\n",
    "path = r\"../../data/interim/Lookup20200804212715_utf8.csv\"\n",
    "lookup2 = pd.read_csv(path, sep=\";\", low_memory=False) # low memory prevents dtype problems\n",
    "\n",
    "path = r\"../../data/interim/Mastertabelle_utf8.csv\"\n",
    "master = pd.read_csv(path, sep=\";\")\n",
    "\n",
    "print(f\"lookup1.shape {lookup1.shape}\")\n",
    "print(f\"lookup2.shape {lookup2.shape}\")\n",
    "print(f\"master.shape {master.shape}\")\n",
    "\n",
    "lookup = pd.concat([lookup1,lookup2], axis=1)\n",
    "del lookup1, lookup2\n",
    "print(f\"lookup.shape {lookup.shape}\")\n",
    "\n",
    "data_miss = pd.read_pickle(\"../../data/interim/data_cleaned_missingness.pkl\")\n",
    "print(f\"data_miss.shape {data_miss.shape}\")\n"
   ]
  },
  {
   "source": [
    "# exceptions\n",
    "\n"
   ],
   "cell_type": "markdown",
   "metadata": {}
  },
  {
   "cell_type": "code",
   "execution_count": 3,
   "metadata": {},
   "outputs": [],
   "source": [
    "# TODO FIXME"
   ]
  },
  {
   "cell_type": "code",
   "execution_count": 4,
   "metadata": {},
   "outputs": [],
   "source": [
    "# BL_MonthFirstDiagnosis Spalte fehlerhaft\n",
    "data_miss = data_miss.drop(columns = \"BL_MonthFirstDiagnosis\")"
   ]
  },
  {
   "cell_type": "code",
   "execution_count": 5,
   "metadata": {},
   "outputs": [],
   "source": [
    "lookup = lookup.drop(columns = [\"dupl1_v_2061\",\"dupl1_v_2061_B\"])"
   ]
  },
  {
   "source": [
    "# clean lookup table"
   ],
   "cell_type": "markdown",
   "metadata": {}
  },
  {
   "cell_type": "code",
   "execution_count": 6,
   "metadata": {},
   "outputs": [
    {
     "output_type": "stream",
     "name": "stdout",
     "text": [
      "number of columns in lookup: 4994\n\nnumber of unique columns in lookup: 4994\n\nnon-unique columns:\nv_345_B     2\nv_1992_B    2\nv_1992      2\nv_345       2\ndtype: int64\n"
     ]
    }
   ],
   "source": [
    "print(f\"number of columns in lookup: {len(lookup.columns)}\")\n",
    "print()\n",
    "print(f\"number of unique columns in lookup: {len(lookup.columns)}\")\n",
    "print()\n",
    "non_unique_cols = lookup.columns.value_counts()[lookup.columns.value_counts()>1]\n",
    "print(f\"non-unique columns:\\n{non_unique_cols}\")"
   ]
  },
  {
   "cell_type": "code",
   "execution_count": 7,
   "metadata": {},
   "outputs": [],
   "source": [
    "# preserve the column which has more values\n",
    "def lookup_remove_duplicates(lookup):\n",
    "    print(f\"original shape = {lookup.shape}\")\n",
    "    cols = lookup.columns\n",
    "    duplicates = cols.value_counts()[cols.value_counts()>1]\n",
    "    print(f\"duplicates = \\n{duplicates}\")\n",
    "    col_numbers = [_ for _ in range(lookup.shape[1])]    \n",
    "    # iterate through the non-unique columns\n",
    "    for col in list(duplicates.index):\n",
    "        idx = list(np.where(cols == col)[0])\n",
    "        idx_counts = []        \n",
    "        # counter number of unique values per non-unique column\n",
    "        for i in idx:\n",
    "            idx_counts.append(lookup.iloc[:,i].value_counts().count())\n",
    "        # cherry pick column with most unique values\n",
    "        idx_best = np.where(idx_counts == np.max(idx_counts))\n",
    "        # if many best exist, take the smallest index \n",
    "        idx_best = np.min(idx_best)\n",
    "        # all but best indices\n",
    "        idx_notbest = idx.pop(idx_best)\n",
    "        # remove all but best indices from column indices\n",
    "        col_numbers.remove(idx_notbest)\n",
    "    return lookup.iloc[:,col_numbers].copy()"
   ]
  },
  {
   "cell_type": "code",
   "execution_count": 8,
   "metadata": {},
   "outputs": [
    {
     "output_type": "stream",
     "name": "stdout",
     "text": [
      "original shape = (1053, 4994)\nduplicates = \nv_345_B     2\nv_1992_B    2\nv_1992      2\nv_345       2\ndtype: int64\n"
     ]
    }
   ],
   "source": [
    "lookup_cleaned = lookup_remove_duplicates(lookup)\n",
    "lookup_cleaned.to_pickle(\"../../data/interim/lookup_cleaned.pkl\", compression = \"zip\")\n",
    "del lookup"
   ]
  },
  {
   "source": [
    "# merge old names to new names"
   ],
   "cell_type": "markdown",
   "metadata": {}
  },
  {
   "cell_type": "code",
   "execution_count": 9,
   "metadata": {},
   "outputs": [
    {
     "output_type": "stream",
     "name": "stdout",
     "text": [
      "colmap.shape = (221, 1)\ncolmap_merged.shape = (228, 2)\n                          new                         old\n0                      BL_Age                      v_3176\n1                   BL_Gender                       v_341\n2                BL_Ethnicity                       v_342\n3  BL_AdmissionComputedNewCat  BL_AdmissionComputedNewCat\n4       BL_EmergencyAdmission                      v_3078\n"
     ]
    }
   ],
   "source": [
    "# merge old names to new names\n",
    "colmap = pd.DataFrame({\"new\": data_miss.columns})\n",
    "master.rename(columns={\n",
    "    'Neue.Variablennamen_V2' : \"new\",\n",
    "    'OriginalVariablenName' : \"old\"\n",
    "    }, inplace=True)\n",
    "\n",
    "colmap_merged = colmap.merge(\n",
    "    master[['old','new']], how=\"left\", left_on=\"new\", right_on=\"new\")\n",
    "print(f\"colmap.shape = {colmap.shape}\")\n",
    "print(f\"colmap_merged.shape = {colmap_merged.shape}\")\n",
    "print(colmap_merged.head())"
   ]
  },
  {
   "cell_type": "code",
   "execution_count": 10,
   "metadata": {},
   "outputs": [
    {
     "output_type": "stream",
     "name": "stdout",
     "text": [
      "Index(['v_1732', 'v_1731', 'v_1733', 'v_1727', 'v_1734', 'v_1730', 'v_1728'], dtype='object')\n"
     ]
    }
   ],
   "source": [
    "# shapes are not consistent, check for duplicates\n",
    "not_unique = colmap_merged.old.value_counts() == 2\n",
    "not_unique = not_unique.index[not_unique]\n",
    "print(not_unique)"
   ]
  },
  {
   "cell_type": "code",
   "execution_count": 11,
   "metadata": {},
   "outputs": [
    {
     "output_type": "execute_result",
     "data": {
      "text/plain": [
       "                      new     old\n",
       "140   BL_Vital_SystolicBP  v_1727\n",
       "141   BL_Vital_SystolicBP  v_1727\n",
       "142  BL_Vital_DiastolicBP  v_1728\n",
       "143  BL_Vital_DiastolicBP  v_1728\n",
       "144        BL_Vital_paCO2  v_1732\n",
       "145        BL_Vital_paCO2  v_1732\n",
       "146         BL_Vital_paO2  v_1731\n",
       "147         BL_Vital_paO2  v_1731\n",
       "149     BL_Vital_RespRate  v_1734\n",
       "150     BL_Vital_RespRate  v_1734\n",
       "151          BL_Vital_SO2  v_1730\n",
       "152          BL_Vital_SO2  v_1730\n",
       "153  BL_Vital_Temperature  v_1733\n",
       "154  BL_Vital_Temperature  v_1733"
      ],
      "text/html": "<div>\n<style scoped>\n    .dataframe tbody tr th:only-of-type {\n        vertical-align: middle;\n    }\n\n    .dataframe tbody tr th {\n        vertical-align: top;\n    }\n\n    .dataframe thead th {\n        text-align: right;\n    }\n</style>\n<table border=\"1\" class=\"dataframe\">\n  <thead>\n    <tr style=\"text-align: right;\">\n      <th></th>\n      <th>new</th>\n      <th>old</th>\n    </tr>\n  </thead>\n  <tbody>\n    <tr>\n      <th>140</th>\n      <td>BL_Vital_SystolicBP</td>\n      <td>v_1727</td>\n    </tr>\n    <tr>\n      <th>141</th>\n      <td>BL_Vital_SystolicBP</td>\n      <td>v_1727</td>\n    </tr>\n    <tr>\n      <th>142</th>\n      <td>BL_Vital_DiastolicBP</td>\n      <td>v_1728</td>\n    </tr>\n    <tr>\n      <th>143</th>\n      <td>BL_Vital_DiastolicBP</td>\n      <td>v_1728</td>\n    </tr>\n    <tr>\n      <th>144</th>\n      <td>BL_Vital_paCO2</td>\n      <td>v_1732</td>\n    </tr>\n    <tr>\n      <th>145</th>\n      <td>BL_Vital_paCO2</td>\n      <td>v_1732</td>\n    </tr>\n    <tr>\n      <th>146</th>\n      <td>BL_Vital_paO2</td>\n      <td>v_1731</td>\n    </tr>\n    <tr>\n      <th>147</th>\n      <td>BL_Vital_paO2</td>\n      <td>v_1731</td>\n    </tr>\n    <tr>\n      <th>149</th>\n      <td>BL_Vital_RespRate</td>\n      <td>v_1734</td>\n    </tr>\n    <tr>\n      <th>150</th>\n      <td>BL_Vital_RespRate</td>\n      <td>v_1734</td>\n    </tr>\n    <tr>\n      <th>151</th>\n      <td>BL_Vital_SO2</td>\n      <td>v_1730</td>\n    </tr>\n    <tr>\n      <th>152</th>\n      <td>BL_Vital_SO2</td>\n      <td>v_1730</td>\n    </tr>\n    <tr>\n      <th>153</th>\n      <td>BL_Vital_Temperature</td>\n      <td>v_1733</td>\n    </tr>\n    <tr>\n      <th>154</th>\n      <td>BL_Vital_Temperature</td>\n      <td>v_1733</td>\n    </tr>\n  </tbody>\n</table>\n</div>"
     },
     "metadata": {},
     "execution_count": 11
    }
   ],
   "source": [
    "# inspect duplicates\n",
    "colmap_merged[colmap_merged.old.isin(not_unique)]"
   ]
  },
  {
   "cell_type": "code",
   "execution_count": 12,
   "metadata": {},
   "outputs": [
    {
     "output_type": "stream",
     "name": "stdout",
     "text": [
      "colmap_merged.shape = (221, 2)\n"
     ]
    }
   ],
   "source": [
    "# all non-unique representations are only duplicates. remove duplicates\n",
    "colmap_merged = colmap_merged.drop_duplicates()\n",
    "print(f\"colmap_merged.shape = {colmap_merged.shape}\")"
   ]
  },
  {
   "cell_type": "code",
   "execution_count": 13,
   "metadata": {},
   "outputs": [
    {
     "output_type": "stream",
     "name": "stdout",
     "text": [
      "\n\nfrom 221 columns in colmap_merged, 205 are in lookup\n\n\ncolumns from colmap_merged which are not in lookup: \n                                 new                              old\n3         BL_AdmissionComputedNewCat       BL_AdmissionComputedNewCat\n5      BL_DaysInfectionContactNewCat    BL_DaysInfectionContactNewCat\n8         BL_UCstartdayNewCategories       BL_UCstartdayNewCategories\n10        BL_COstartdayNewCategories       BL_COstartdayNewCategories\n12        BL_CRstartdayNewCategories       BL_CRstartdayNewCategories\n14        BL_REstartdayNewCategories       BL_REstartdayNewCategories\n15   BL_Duration_InpatientstayNewCat  BL_Duration_InpatientstayNewCat\n16         BL_Duration_ICUStayNewCat        BL_Duration_ICUStayNewCat\n17              BL_Duration_IMCUstay                           v_3766\n18     BL_Duration_VentilationNewCat    BL_Duration_VentilationNewCat\n19                           BL_ECMO                           v_3767\n20      BL_ObservationalPeriodNewCat     BL_ObservationalPeriodNewCat\n148                   BL_Vital_Pulse                   BL_Vital_Pulse\n155        BL_Vital_GlasgowComaScale                     dupl1_v_2061\n156              BL_Function_HeartEF              BL_Function_HeartEF\n178                  BL_igG_positive                     dupl1_v_3018\n"
     ]
    }
   ],
   "source": [
    "def check_merged_names(colmap_merged, lookup):\n",
    "    \"\"\"check if all merged names are in to lookup table\"\"\"\n",
    "    in_lookup = []\n",
    "    for col in colmap_merged.old:\n",
    "        if col in lookup.columns:\n",
    "            in_lookup.append(True)\n",
    "        else:\n",
    "            in_lookup.append(False)\n",
    "\n",
    "    print(\"\\n\")\n",
    "    print(f\"from {len(in_lookup)} columns in colmap_merged, {sum(in_lookup)} are in lookup\")\n",
    "    print(\"\\n\")\n",
    "    print(f\"columns from colmap_merged which are not in lookup: \\n{colmap_merged[~np.array(in_lookup)]}\")\n",
    "\n",
    "check_merged_names(colmap_merged, lookup_cleaned)"
   ]
  },
  {
   "cell_type": "code",
   "execution_count": 14,
   "metadata": {},
   "outputs": [],
   "source": [
    "#                                  new                              old\n",
    "# 3         BL_AdmissionComputedNewCat       BL_AdmissionComputedNewCat -> time\n",
    "# 6      BL_DaysInfectionContactNewCat    BL_DaysInfectionContactNewCat -> time\n",
    "# 9         BL_UCstartdayNewCategories       BL_UCstartdayNewCategories -> time\n",
    "# 11        BL_COstartdayNewCategories       BL_COstartdayNewCategories -> time\n",
    "# 13        BL_CRstartdayNewCategories       BL_CRstartdayNewCategories -> time\n",
    "# 15        BL_REstartdayNewCategories       BL_REstartdayNewCategories -> time\n",
    "# 16   BL_Duration_InpatientstayNewCat  BL_Duration_InpatientstayNewCat -> time\n",
    "# 17         BL_Duration_ICUStayNewCat        BL_Duration_ICUStayNewCat -> time\n",
    "# 18              BL_Duration_IMCUstay                           v_3766 -> time\n",
    "# 19     BL_Duration_VentilationNewCat    BL_Duration_VentilationNewCat -> time\n",
    "# 20                           BL_ECMO                           v_3767 -> boolean\n",
    "# 21      BL_ObservationalPeriodNewCat     BL_ObservationalPeriodNewCat -> time\n",
    "# 149                   BL_Vital_Pulse                   BL_Vital_Pulse -> replace old with \"BL_Vital_PulseV2\" # DONE\n",
    "# 157              BL_Function_HeartEF              BL_Function_HeartEF -> replace old with \"BL_Function_HeartEFV2\" # DONE\n",
    "# 179                  BL_igG_positive                     dupl1_v_3018 -> unknown # TODO FIXME"
   ]
  },
  {
   "source": [
    "## fix wrong assignments"
   ],
   "cell_type": "markdown",
   "metadata": {}
  },
  {
   "cell_type": "code",
   "execution_count": 15,
   "metadata": {},
   "outputs": [],
   "source": [
    "# 149                   BL_Vital_Pulse                   BL_Vital_Pulse -> replace old with \"BL_Vital_PulseV2\"\n",
    "# 157              BL_Function_HeartEF              BL_Function_HeartEF -> replace old with \"BL_Function_HeartEFV2\"\n",
    "colmap_merged.old[colmap_merged.old == \"BL_Vital_Pulse\"] = \"BL_Vital_PulseV2\"\n",
    "colmap_merged.old[colmap_merged.old == \"BL_Function_HeartEF\"] = \"BL_Function_HeartEFV2\""
   ]
  },
  {
   "cell_type": "code",
   "execution_count": 16,
   "metadata": {},
   "outputs": [
    {
     "output_type": "stream",
     "name": "stdout",
     "text": [
      "\n\nfrom 221 columns in colmap_merged, 207 are in lookup\n\n\ncolumns from colmap_merged which are not in lookup: \n                                 new                              old\n3         BL_AdmissionComputedNewCat       BL_AdmissionComputedNewCat\n5      BL_DaysInfectionContactNewCat    BL_DaysInfectionContactNewCat\n8         BL_UCstartdayNewCategories       BL_UCstartdayNewCategories\n10        BL_COstartdayNewCategories       BL_COstartdayNewCategories\n12        BL_CRstartdayNewCategories       BL_CRstartdayNewCategories\n14        BL_REstartdayNewCategories       BL_REstartdayNewCategories\n15   BL_Duration_InpatientstayNewCat  BL_Duration_InpatientstayNewCat\n16         BL_Duration_ICUStayNewCat        BL_Duration_ICUStayNewCat\n17              BL_Duration_IMCUstay                           v_3766\n18     BL_Duration_VentilationNewCat    BL_Duration_VentilationNewCat\n19                           BL_ECMO                           v_3767\n20      BL_ObservationalPeriodNewCat     BL_ObservationalPeriodNewCat\n155        BL_Vital_GlasgowComaScale                     dupl1_v_2061\n178                  BL_igG_positive                     dupl1_v_3018\n"
     ]
    }
   ],
   "source": [
    "check_merged_names(colmap_merged, lookup_cleaned)"
   ]
  },
  {
   "cell_type": "code",
   "execution_count": null,
   "metadata": {},
   "outputs": [],
   "source": []
  },
  {
   "source": [
    "## clean **time** related columns\n",
    "\n",
    "take the **most conservative** approach\n",
    "\n",
    "\n",
    "-  3         BL_AdmissionComputedNewCat       BL_AdmissionComputedNewCat -> time\n",
    "-  6      BL_DaysInfectionContactNewCat    BL_DaysInfectionContactNewCat -> time\n",
    "-  9         BL_UCstartdayNewCategories       BL_UCstartdayNewCategories -> time\n",
    "-  11        BL_COstartdayNewCategories       BL_COstartdayNewCategories -> time\n",
    "-  13        BL_CRstartdayNewCategories       BL_CRstartdayNewCategories -> time\n",
    "-  15        BL_REstartdayNewCategories       BL_REstartdayNewCategories -> time\n",
    "-  16   BL_Duration_InpatientstayNewCat  BL_Duration_InpatientstayNewCat -> time\n",
    "-  17         BL_Duration_ICUStayNewCat        BL_Duration_ICUStayNewCat -> time\n",
    "-  18              BL_Duration_IMCUstay                           v_3766 -> time\n",
    "-  19     BL_Duration_VentilationNewCat    BL_Duration_VentilationNewCat -> time\n",
    "-  21      BL_ObservationalPeriodNewCat     BL_ObservationalPeriodNewCat -> time\n"
   ],
   "cell_type": "markdown",
   "metadata": {}
  },
  {
   "source": [
    "### 3         BL_AdmissionComputedNewCat       BL_AdmissionComputedNewCat -> time"
   ],
   "cell_type": "markdown",
   "metadata": {}
  },
  {
   "cell_type": "code",
   "execution_count": 17,
   "metadata": {},
   "outputs": [
    {
     "output_type": "execute_result",
     "data": {
      "text/plain": [
       "0            2599\n",
       "-1            467\n",
       "1             284\n",
       "2             226\n",
       "7             194\n",
       "5             184\n",
       "3             183\n",
       "4             173\n",
       "6             138\n",
       "-2            113\n",
       "8             100\n",
       "9              90\n",
       "10             87\n",
       "-7             79\n",
       "[-21;-16]      70\n",
       "-3             67\n",
       "-5             65\n",
       "11             62\n",
       "-6             55\n",
       "-4             55\n",
       "[18;21]        53\n",
       "[22;28]        47\n",
       "-9             47\n",
       "-8             43\n",
       "-10            39\n",
       "14             37\n",
       "-14            37\n",
       "12             34\n",
       "13             32\n",
       "-12            29\n",
       "[-28;-22]      26\n",
       "15             25\n",
       "-11            22\n",
       "<=-36          21\n",
       "[-35;-29]      20\n",
       "-15            19\n",
       "-13            16\n",
       "16             16\n",
       "[29;35]        13\n",
       "17             12\n",
       ">=50           10\n",
       "Name: BL_AdmissionComputedNewCat, dtype: int64"
      ]
     },
     "metadata": {},
     "execution_count": 17
    }
   ],
   "source": [
    "data_miss[\"BL_AdmissionComputedNewCat\"].value_counts()"
   ]
  },
  {
   "cell_type": "code",
   "execution_count": 18,
   "metadata": {},
   "outputs": [],
   "source": [
    "BL_AdmissionComputedNewCat_replace = {\n",
    "    \"[-21;-16]\" : -21,\n",
    "    \"[18;21]\" : 18,\n",
    "    \"[22;28]\" : 22,\n",
    "    \"[-28;-22]\" : -28,\n",
    "    \"<=-36\" : -36,\n",
    "    \"[-35;-29]\" : -35,\n",
    "    \"[29;35]\" : 29,\n",
    "    \">=50\" : 50\n",
    "    }\n"
   ]
  },
  {
   "cell_type": "code",
   "execution_count": 19,
   "metadata": {},
   "outputs": [
    {
     "output_type": "execute_result",
     "data": {
      "text/plain": [
       "0      2599\n",
       "-1      467\n",
       "1       284\n",
       "2       226\n",
       "7       194\n",
       "5       184\n",
       "3       183\n",
       "4       173\n",
       "6       138\n",
       "-2      113\n",
       "8       100\n",
       "9        90\n",
       "10       87\n",
       "-7       79\n",
       "-21      70\n",
       "-3       67\n",
       "-5       65\n",
       "11       62\n",
       "-6       55\n",
       "-4       55\n",
       "18       53\n",
       "22       47\n",
       "-9       47\n",
       "-8       43\n",
       "-10      39\n",
       "14       37\n",
       "-14      37\n",
       "12       34\n",
       "13       32\n",
       "-12      29\n",
       "-28      26\n",
       "15       25\n",
       "-11      22\n",
       "-36      21\n",
       "-35      20\n",
       "-15      19\n",
       "-13      16\n",
       "16       16\n",
       "29       13\n",
       "17       12\n",
       "50       10\n",
       "Name: BL_AdmissionComputedNewCat, dtype: int64"
      ]
     },
     "metadata": {},
     "execution_count": 19
    }
   ],
   "source": [
    "data_miss[\"BL_AdmissionComputedNewCat\"].replace(BL_AdmissionComputedNewCat_replace).value_counts()"
   ]
  },
  {
   "cell_type": "code",
   "execution_count": 20,
   "metadata": {},
   "outputs": [],
   "source": [
    "data_miss[\"BL_AdmissionComputedNewCat\"].replace(BL_AdmissionComputedNewCat_replace, inplace=True)"
   ]
  },
  {
   "source": [
    "### 6      BL_DaysInfectionContactNewCat    BL_DaysInfectionContactNewCat -> time"
   ],
   "cell_type": "markdown",
   "metadata": {}
  },
  {
   "cell_type": "code",
   "execution_count": 21,
   "metadata": {},
   "outputs": [
    {
     "output_type": "execute_result",
     "data": {
      "text/plain": [
       "7          119\n",
       "5           90\n",
       "14          60\n",
       "6           52\n",
       "10          49\n",
       "[15;21]     48\n",
       "8           45\n",
       "4           42\n",
       "3           39\n",
       "9           39\n",
       "1           35\n",
       "2           35\n",
       "12          25\n",
       "0           23\n",
       ">=22        19\n",
       "11          18\n",
       "13          15\n",
       "Name: BL_DaysInfectionContactNewCat, dtype: int64"
      ]
     },
     "metadata": {},
     "execution_count": 21
    }
   ],
   "source": [
    "col = \"BL_DaysInfectionContactNewCat\"\n",
    "data_miss[col].value_counts()"
   ]
  },
  {
   "cell_type": "code",
   "execution_count": 22,
   "metadata": {},
   "outputs": [],
   "source": [
    "to_replace = {\n",
    "    \"[15;21]\" : 15,\n",
    "    \">=22\": 22\n",
    "    }"
   ]
  },
  {
   "cell_type": "code",
   "execution_count": 23,
   "metadata": {},
   "outputs": [
    {
     "output_type": "execute_result",
     "data": {
      "text/plain": [
       "7     119\n",
       "5      90\n",
       "14     60\n",
       "6      52\n",
       "10     49\n",
       "15     48\n",
       "8      45\n",
       "4      42\n",
       "3      39\n",
       "9      39\n",
       "2      35\n",
       "1      35\n",
       "12     25\n",
       "0      23\n",
       "22     19\n",
       "11     18\n",
       "13     15\n",
       "Name: BL_DaysInfectionContactNewCat, dtype: int64"
      ]
     },
     "metadata": {},
     "execution_count": 23
    }
   ],
   "source": [
    "data_miss[col].replace(to_replace).value_counts()"
   ]
  },
  {
   "cell_type": "code",
   "execution_count": 24,
   "metadata": {},
   "outputs": [],
   "source": [
    "data_miss[col].replace(to_replace, inplace=True)"
   ]
  },
  {
   "source": [
    "### 9         BL_UCstartdayNewCategories       BL_UCstartdayNewCategories -> time"
   ],
   "cell_type": "markdown",
   "metadata": {}
  },
  {
   "cell_type": "code",
   "execution_count": 25,
   "metadata": {},
   "outputs": [
    {
     "output_type": "execute_result",
     "data": {
      "text/plain": [
       "0            2137\n",
       "-1            423\n",
       "-2            388\n",
       "-3            363\n",
       "-7            355\n",
       "-5            260\n",
       "-4            258\n",
       "-6            167\n",
       "-10           134\n",
       "-14           123\n",
       "-8            110\n",
       "-9             78\n",
       "[-21;-16]      51\n",
       "-11            50\n",
       "1              41\n",
       "-12            35\n",
       "[8;14]         31\n",
       "-13            31\n",
       "<=-22          30\n",
       "3              23\n",
       "[6;7]          19\n",
       "2              15\n",
       ">=15           14\n",
       "5              12\n",
       "-15            12\n",
       "4               7\n",
       "Name: BL_UCstartdayNewCategories, dtype: int64"
      ]
     },
     "metadata": {},
     "execution_count": 25
    }
   ],
   "source": [
    "col = \"BL_UCstartdayNewCategories\"\n",
    "data_miss[col].value_counts()"
   ]
  },
  {
   "cell_type": "code",
   "execution_count": 26,
   "metadata": {},
   "outputs": [],
   "source": [
    "to_replace = {\n",
    "\"[-21;-16]\" : -21,\n",
    "\"[8;14]\" : 8,\n",
    "\"<=-22\" : -22,\n",
    "\"[6;7]\" : 6,\n",
    "\">=15\" : 15\n",
    "}\n"
   ]
  },
  {
   "cell_type": "code",
   "execution_count": 27,
   "metadata": {},
   "outputs": [
    {
     "output_type": "execute_result",
     "data": {
      "text/plain": [
       "0      2137\n",
       "-1      423\n",
       "-2      388\n",
       "-3      363\n",
       "-7      355\n",
       "-5      260\n",
       "-4      258\n",
       "-6      167\n",
       "-10     134\n",
       "-14     123\n",
       "-8      110\n",
       "-9       78\n",
       "-21      51\n",
       "-11      50\n",
       "1        41\n",
       "-12      35\n",
       "8        31\n",
       "-13      31\n",
       "-22      30\n",
       "3        23\n",
       "6        19\n",
       "2        15\n",
       "15       14\n",
       "5        12\n",
       "-15      12\n",
       "4         7\n",
       "Name: BL_UCstartdayNewCategories, dtype: int64"
      ]
     },
     "metadata": {},
     "execution_count": 27
    }
   ],
   "source": [
    "data_miss[col].replace(to_replace).value_counts()"
   ]
  },
  {
   "cell_type": "code",
   "execution_count": 28,
   "metadata": {},
   "outputs": [],
   "source": [
    "data_miss[col].replace(to_replace, inplace=True)"
   ]
  },
  {
   "source": [
    "### 11        BL_COstartdayNewCategories       BL_COstartdayNewCategories -> time"
   ],
   "cell_type": "markdown",
   "metadata": {}
  },
  {
   "cell_type": "code",
   "execution_count": 29,
   "metadata": {},
   "outputs": [
    {
     "output_type": "execute_result",
     "data": {
      "text/plain": [
       "0          1147\n",
       "1           234\n",
       "2           185\n",
       "3           161\n",
       "-1          131\n",
       "4           126\n",
       "5           124\n",
       "7           108\n",
       "6            90\n",
       "8            83\n",
       "9            63\n",
       "10           47\n",
       "[15;21]      42\n",
       "11           42\n",
       "-2           41\n",
       "<=-8         35\n",
       "[-7;-6]      25\n",
       "14           24\n",
       "12           24\n",
       "-3           21\n",
       "13           20\n",
       ">=22         19\n",
       "-5           14\n",
       "-4           10\n",
       "Name: BL_COstartdayNewCategories, dtype: int64"
      ]
     },
     "metadata": {},
     "execution_count": 29
    }
   ],
   "source": [
    "col = \"BL_COstartdayNewCategories\"\n",
    "data_miss[col].value_counts()\n"
   ]
  },
  {
   "cell_type": "code",
   "execution_count": 30,
   "metadata": {},
   "outputs": [],
   "source": [
    "to_replace = {\n",
    "    \"[15;21]\" : 15,\n",
    "    \">=22\" : 22,\n",
    "    \"<=-8\" : -8,\n",
    "    \"[-7;-6]\" : -7\n",
    "    }"
   ]
  },
  {
   "cell_type": "code",
   "execution_count": 31,
   "metadata": {},
   "outputs": [
    {
     "output_type": "execute_result",
     "data": {
      "text/plain": [
       "0     1147\n",
       "1      234\n",
       "2      185\n",
       "3      161\n",
       "-1     131\n",
       "4      126\n",
       "5      124\n",
       "7      108\n",
       "6       90\n",
       "8       83\n",
       "9       63\n",
       "10      47\n",
       "11      42\n",
       "15      42\n",
       "-2      41\n",
       "-8      35\n",
       "-7      25\n",
       "12      24\n",
       "14      24\n",
       "-3      21\n",
       "13      20\n",
       "22      19\n",
       "-5      14\n",
       "-4      10\n",
       "Name: BL_COstartdayNewCategories, dtype: int64"
      ]
     },
     "metadata": {},
     "execution_count": 31
    }
   ],
   "source": [
    "data_miss[col].replace(to_replace).value_counts()"
   ]
  },
  {
   "cell_type": "code",
   "execution_count": 32,
   "metadata": {},
   "outputs": [],
   "source": [
    "data_miss[col].replace(to_replace, inplace=True)"
   ]
  },
  {
   "source": [
    "### 13        BL_CRstartdayNewCategories       BL_CRstartdayNewCategories -> time"
   ],
   "cell_type": "markdown",
   "metadata": {}
  },
  {
   "cell_type": "code",
   "execution_count": 33,
   "metadata": {},
   "outputs": [
    {
     "output_type": "execute_result",
     "data": {
      "text/plain": [
       "BL_CRstartdayNewCategories\n",
       "0                             285\n",
       "1                             134\n",
       "2                             114\n",
       "3                              85\n",
       "5                              82\n",
       "4                              78\n",
       "6                              60\n",
       "-1                             52\n",
       "7                              48\n",
       "[-7;-2]                        40\n",
       "8                              37\n",
       "[15;21]                        34\n",
       "9                              29\n",
       "10                             23\n",
       "11                             19\n",
       "<=-8                           18\n",
       "12                             14\n",
       "14                             13\n",
       "13                             13\n",
       ">=22                           12\n",
       "dtype: int64"
      ]
     },
     "metadata": {},
     "execution_count": 33
    }
   ],
   "source": [
    "col = [\"BL_CRstartdayNewCategories\"]\n",
    "data_miss[col].value_counts()\n"
   ]
  },
  {
   "cell_type": "code",
   "execution_count": 34,
   "metadata": {},
   "outputs": [],
   "source": [
    "to_replace = {\n",
    "    \"[-7;-2]\" : -7,\n",
    "    \"[15;21]\" : 15,\n",
    "    \">=22\" : 22,\n",
    "    \"<=-8\" : -8,\n",
    "    }"
   ]
  },
  {
   "cell_type": "code",
   "execution_count": 35,
   "metadata": {},
   "outputs": [
    {
     "output_type": "execute_result",
     "data": {
      "text/plain": [
       "BL_CRstartdayNewCategories\n",
       "0                             285\n",
       "1                             134\n",
       "2                             114\n",
       "3                              85\n",
       "5                              82\n",
       "4                              78\n",
       "6                              60\n",
       "-1                             52\n",
       "7                              48\n",
       "-7                             40\n",
       "8                              37\n",
       "15                             34\n",
       "9                              29\n",
       "10                             23\n",
       "11                             19\n",
       "-8                             18\n",
       "12                             14\n",
       "13                             13\n",
       "14                             13\n",
       "22                             12\n",
       "dtype: int64"
      ]
     },
     "metadata": {},
     "execution_count": 35
    }
   ],
   "source": [
    "data_miss[col].replace(to_replace).value_counts()"
   ]
  },
  {
   "cell_type": "code",
   "execution_count": 36,
   "metadata": {},
   "outputs": [
    {
     "output_type": "stream",
     "name": "stderr",
     "text": [
      "C:\\Users\\tlinden\\anaconda3\\envs\\coperimo_tests\\lib\\site-packages\\pandas\\core\\frame.py:4383: SettingWithCopyWarning: \nA value is trying to be set on a copy of a slice from a DataFrame\n\nSee the caveats in the documentation: https://pandas.pydata.org/pandas-docs/stable/user_guide/indexing.html#returning-a-view-versus-a-copy\n  return super().replace(\n"
     ]
    }
   ],
   "source": [
    "data_miss[col].replace(to_replace, inplace=True)"
   ]
  },
  {
   "cell_type": "code",
   "execution_count": 37,
   "metadata": {},
   "outputs": [],
   "source": [
    "data_miss[col] = data_miss[col].replace(to_replace)"
   ]
  },
  {
   "cell_type": "code",
   "execution_count": 38,
   "metadata": {},
   "outputs": [
    {
     "output_type": "execute_result",
     "data": {
      "text/plain": [
       "BL_CRstartdayNewCategories\n",
       "0                             285\n",
       "1                             134\n",
       "2                             114\n",
       "3                              85\n",
       "5                              82\n",
       "4                              78\n",
       "6                              60\n",
       "-1                             52\n",
       "7                              48\n",
       "-7                             40\n",
       "8                              37\n",
       "15                             34\n",
       "9                              29\n",
       "10                             23\n",
       "11                             19\n",
       "-8                             18\n",
       "12                             14\n",
       "13                             13\n",
       "14                             13\n",
       "22                             12\n",
       "dtype: int64"
      ]
     },
     "metadata": {},
     "execution_count": 38
    }
   ],
   "source": [
    "data_miss[col].value_counts()"
   ]
  },
  {
   "source": [
    "### 15        BL_REstartdayNewCategories       BL_REstartdayNewCategories -> time"
   ],
   "cell_type": "markdown",
   "metadata": {}
  },
  {
   "cell_type": "code",
   "execution_count": 39,
   "metadata": {},
   "outputs": [
    {
     "output_type": "execute_result",
     "data": {
      "text/plain": [
       "1          233\n",
       "14         226\n",
       "6          166\n",
       "8          163\n",
       "5          161\n",
       "7          159\n",
       "12         154\n",
       "9          136\n",
       "10         135\n",
       "11         133\n",
       "4          128\n",
       "15         120\n",
       "3          118\n",
       "13         117\n",
       "2          103\n",
       "16          76\n",
       "17          73\n",
       "18          71\n",
       "20          59\n",
       "[31;35]     58\n",
       "21          54\n",
       "[36;42]     54\n",
       "19          53\n",
       "23          39\n",
       "22          37\n",
       "24          34\n",
       "26          28\n",
       "28          27\n",
       "25          27\n",
       "[43;49]     27\n",
       "<=0         26\n",
       ">=57        24\n",
       "30          21\n",
       "27          19\n",
       "[50;56]     16\n",
       "29          14\n",
       "Name: BL_REstartdayNewCategories, dtype: int64"
      ]
     },
     "metadata": {},
     "execution_count": 39
    }
   ],
   "source": [
    "col = \"BL_REstartdayNewCategories\"\n",
    "data_miss[col].value_counts()\n"
   ]
  },
  {
   "cell_type": "code",
   "execution_count": 40,
   "metadata": {},
   "outputs": [],
   "source": [
    "to_replace = {\n",
    "\"[31;35]\" : 31,\n",
    "\"[36;42]\" : 36,\n",
    "\"[43;49]\" : 43,\n",
    "\"<=0\" : 0,\n",
    "\">=57\" : 57,\n",
    "\"[50;56]\" : 50\n",
    "}\n",
    "\n"
   ]
  },
  {
   "cell_type": "code",
   "execution_count": 41,
   "metadata": {},
   "outputs": [
    {
     "output_type": "execute_result",
     "data": {
      "text/plain": [
       "1     233\n",
       "14    226\n",
       "6     166\n",
       "8     163\n",
       "5     161\n",
       "7     159\n",
       "12    154\n",
       "9     136\n",
       "10    135\n",
       "11    133\n",
       "4     128\n",
       "15    120\n",
       "3     118\n",
       "13    117\n",
       "2     103\n",
       "16     76\n",
       "17     73\n",
       "18     71\n",
       "20     59\n",
       "31     58\n",
       "36     54\n",
       "21     54\n",
       "19     53\n",
       "23     39\n",
       "22     37\n",
       "24     34\n",
       "26     28\n",
       "25     27\n",
       "28     27\n",
       "43     27\n",
       "0      26\n",
       "57     24\n",
       "30     21\n",
       "27     19\n",
       "50     16\n",
       "29     14\n",
       "Name: BL_REstartdayNewCategories, dtype: int64"
      ]
     },
     "metadata": {},
     "execution_count": 41
    }
   ],
   "source": [
    "data_miss[col].replace(to_replace).value_counts()"
   ]
  },
  {
   "cell_type": "code",
   "execution_count": 42,
   "metadata": {},
   "outputs": [],
   "source": [
    "data_miss[col].replace(to_replace, inplace=True)"
   ]
  },
  {
   "source": [
    "### 16   BL_Duration_InpatientstayNewCat  BL_Duration_InpatientstayNewCat -> time"
   ],
   "cell_type": "markdown",
   "metadata": {}
  },
  {
   "cell_type": "code",
   "execution_count": 43,
   "metadata": {},
   "outputs": [
    {
     "output_type": "execute_result",
     "data": {
      "text/plain": [
       "0          499\n",
       "6          352\n",
       "7          347\n",
       "4          330\n",
       "3          327\n",
       "5          325\n",
       "2          309\n",
       "8          288\n",
       "10         272\n",
       "9          272\n",
       "11         223\n",
       "1          215\n",
       "12         198\n",
       "14         191\n",
       "13         164\n",
       "15         154\n",
       "16         137\n",
       "17         114\n",
       "21          97\n",
       "20          96\n",
       "19          94\n",
       "18          88\n",
       "[44;49]     83\n",
       "22          78\n",
       "23          71\n",
       "26          62\n",
       "[50;56]     60\n",
       "25          59\n",
       "24          52\n",
       "28          52\n",
       "30          50\n",
       "27          48\n",
       "[57;63]     44\n",
       "36          39\n",
       "31          38\n",
       ">=78        37\n",
       "40          34\n",
       "35          34\n",
       "29          34\n",
       "33          28\n",
       "37          27\n",
       "[64;70]     26\n",
       "34          24\n",
       "38          22\n",
       "32          20\n",
       "39          19\n",
       "43          17\n",
       "41          16\n",
       "[71;77]     15\n",
       "42          14\n",
       "Name: BL_Duration_InpatientstayNewCat, dtype: int64"
      ]
     },
     "metadata": {},
     "execution_count": 43
    }
   ],
   "source": [
    "col = \"BL_Duration_InpatientstayNewCat\"\n",
    "data_miss[col].value_counts()\n"
   ]
  },
  {
   "cell_type": "code",
   "execution_count": 44,
   "metadata": {},
   "outputs": [
    {
     "output_type": "execute_result",
     "data": {
      "text/plain": [
       "0     499\n",
       "6     352\n",
       "7     347\n",
       "4     330\n",
       "3     327\n",
       "5     325\n",
       "2     309\n",
       "8     288\n",
       "10    272\n",
       "9     272\n",
       "11    223\n",
       "1     215\n",
       "12    198\n",
       "14    191\n",
       "13    164\n",
       "15    154\n",
       "16    137\n",
       "17    114\n",
       "21     97\n",
       "20     96\n",
       "19     94\n",
       "18     88\n",
       "44     83\n",
       "22     78\n",
       "23     71\n",
       "26     62\n",
       "50     60\n",
       "25     59\n",
       "28     52\n",
       "24     52\n",
       "30     50\n",
       "27     48\n",
       "57     44\n",
       "36     39\n",
       "31     38\n",
       "78     37\n",
       "35     34\n",
       "29     34\n",
       "40     34\n",
       "33     28\n",
       "37     27\n",
       "64     26\n",
       "34     24\n",
       "38     22\n",
       "32     20\n",
       "39     19\n",
       "43     17\n",
       "41     16\n",
       "71     15\n",
       "42     14\n",
       "Name: BL_Duration_InpatientstayNewCat, dtype: int64"
      ]
     },
     "metadata": {},
     "execution_count": 44
    }
   ],
   "source": [
    "\n",
    "to_replace = {\n",
    "    \"[44;49]\" : 44,\n",
    "    \"[50;56]\" : 50,\n",
    "    \"[57;63]\" : 57,\n",
    "    \">=78\" : 78,\n",
    "    \"[64;70]\" : 64,\n",
    "    \"[71;77]\" : 71\n",
    "    }\n",
    "\n",
    "data_miss[col].replace(to_replace).value_counts()\n"
   ]
  },
  {
   "cell_type": "code",
   "execution_count": 45,
   "metadata": {},
   "outputs": [],
   "source": [
    "data_miss[col].replace(to_replace, inplace=True)"
   ]
  },
  {
   "source": [
    "### 17         BL_Duration_ICUStayNewCat        BL_Duration_ICUStayNewCat -> time"
   ],
   "cell_type": "markdown",
   "metadata": {}
  },
  {
   "cell_type": "code",
   "execution_count": 46,
   "metadata": {},
   "outputs": [
    {
     "output_type": "execute_result",
     "data": {
      "text/plain": [
       "0          2806\n",
       "3            98\n",
       "1            97\n",
       "2            94\n",
       "4            76\n",
       "6            72\n",
       "5            66\n",
       "7            61\n",
       "9            60\n",
       "[36;42]      53\n",
       "8            52\n",
       "11           45\n",
       "[32;35]      44\n",
       "12           44\n",
       "17           44\n",
       "10           41\n",
       "18           40\n",
       "13           39\n",
       "14           38\n",
       "[43;49]      34\n",
       "15           33\n",
       "19           31\n",
       "[50;56]      30\n",
       "22           27\n",
       "16           25\n",
       "24           24\n",
       "23           24\n",
       ">=64         23\n",
       "27           21\n",
       "20           19\n",
       "28           17\n",
       "21           17\n",
       "25           16\n",
       "[57;63]      15\n",
       "30           13\n",
       "29           13\n",
       "26           11\n",
       "31           11\n",
       "Name: BL_Duration_ICUStayNewCat, dtype: int64"
      ]
     },
     "metadata": {},
     "execution_count": 46
    }
   ],
   "source": [
    "col = \"BL_Duration_ICUStayNewCat\"\n",
    "data_miss[col].value_counts()"
   ]
  },
  {
   "cell_type": "code",
   "execution_count": 47,
   "metadata": {},
   "outputs": [
    {
     "output_type": "execute_result",
     "data": {
      "text/plain": [
       "0     2806\n",
       "3       98\n",
       "1       97\n",
       "2       94\n",
       "4       76\n",
       "6       72\n",
       "5       66\n",
       "7       61\n",
       "9       60\n",
       "36      53\n",
       "8       52\n",
       "11      45\n",
       "32      44\n",
       "17      44\n",
       "12      44\n",
       "10      41\n",
       "18      40\n",
       "13      39\n",
       "14      38\n",
       "43      34\n",
       "15      33\n",
       "19      31\n",
       "50      30\n",
       "22      27\n",
       "16      25\n",
       "24      24\n",
       "23      24\n",
       "64      23\n",
       "27      21\n",
       "20      19\n",
       "28      17\n",
       "21      17\n",
       "25      16\n",
       "57      15\n",
       "30      13\n",
       "29      13\n",
       "26      11\n",
       "31      11\n",
       "Name: BL_Duration_ICUStayNewCat, dtype: int64"
      ]
     },
     "metadata": {},
     "execution_count": 47
    }
   ],
   "source": [
    "to_replace = {\n",
    "    \"[36;42]\" : 36,\n",
    "    \"[32;35]\" : 32,\n",
    "    \"[43;49]\" : 43,\n",
    "    \"[50;56]\" : 50,\n",
    "    \">=64\" : 64,\n",
    "    \"25\" : 25,\n",
    "    \"[57;63]\" : 57,\n",
    "    }\n",
    "\n",
    "data_miss[col].replace(to_replace).value_counts()"
   ]
  },
  {
   "cell_type": "code",
   "execution_count": 48,
   "metadata": {},
   "outputs": [],
   "source": [
    "data_miss[col].replace(to_replace, inplace=True)"
   ]
  },
  {
   "source": [
    "### 18              BL_Duration_IMCUstay                           v_3766 -> time"
   ],
   "cell_type": "markdown",
   "metadata": {}
  },
  {
   "cell_type": "code",
   "execution_count": 49,
   "metadata": {},
   "outputs": [
    {
     "output_type": "execute_result",
     "data": {
      "text/plain": [
       "0     2322\n",
       ">0     141\n",
       "Name: BL_Duration_IMCUstay, dtype: int64"
      ]
     },
     "metadata": {},
     "execution_count": 49
    }
   ],
   "source": [
    "col = \"BL_Duration_IMCUstay\"\n",
    "data_miss[col].value_counts()\n",
    "# nothing to do"
   ]
  },
  {
   "source": [
    "### 19     BL_Duration_VentilationNewCat    BL_Duration_VentilationNewCat -> time"
   ],
   "cell_type": "markdown",
   "metadata": {}
  },
  {
   "cell_type": "code",
   "execution_count": 50,
   "metadata": {},
   "outputs": [
    {
     "output_type": "execute_result",
     "data": {
      "text/plain": [
       "0          2977\n",
       "1            66\n",
       "[29;35]      65\n",
       "5            61\n",
       "7            58\n",
       "9            54\n",
       "6            54\n",
       "3            53\n",
       "[25;28]      50\n",
       "8            47\n",
       "4            46\n",
       "11           42\n",
       "[36;42]      37\n",
       "12           36\n",
       "14           35\n",
       "10           34\n",
       "[43;49]      34\n",
       "2            31\n",
       "15           30\n",
       "13           29\n",
       "17           26\n",
       "18           25\n",
       "20           24\n",
       ">=57         21\n",
       "22           19\n",
       "19           18\n",
       "24           18\n",
       "23           17\n",
       "16           17\n",
       "[50;56]      15\n",
       "21           14\n",
       "Name: BL_Duration_VentilationNewCat, dtype: int64"
      ]
     },
     "metadata": {},
     "execution_count": 50
    }
   ],
   "source": [
    "col = \"BL_Duration_VentilationNewCat\"\n",
    "data_miss[col].value_counts()\n"
   ]
  },
  {
   "cell_type": "code",
   "execution_count": 51,
   "metadata": {},
   "outputs": [
    {
     "output_type": "execute_result",
     "data": {
      "text/plain": [
       "0     2977\n",
       "1       66\n",
       "29      65\n",
       "5       61\n",
       "7       58\n",
       "6       54\n",
       "9       54\n",
       "3       53\n",
       "25      50\n",
       "8       47\n",
       "4       46\n",
       "11      42\n",
       "36      37\n",
       "12      36\n",
       "14      35\n",
       "10      34\n",
       "43      34\n",
       "2       31\n",
       "15      30\n",
       "13      29\n",
       "17      26\n",
       "18      25\n",
       "20      24\n",
       "57      21\n",
       "22      19\n",
       "19      18\n",
       "24      18\n",
       "16      17\n",
       "23      17\n",
       "50      15\n",
       "21      14\n",
       "Name: BL_Duration_VentilationNewCat, dtype: int64"
      ]
     },
     "metadata": {},
     "execution_count": 51
    }
   ],
   "source": [
    "to_replace = {\n",
    "    \"[29;35]\" : 29,\n",
    "    \"[25;28]\" : 25,\n",
    "    \"[36;42]\" : 36,\n",
    "    \"[43;49]\" : 43,\n",
    "    \">=57\" : 57,\n",
    "    \"[50;56]\" : 50,\n",
    "}\n",
    "\n",
    "data_miss[col].replace(to_replace).value_counts()"
   ]
  },
  {
   "cell_type": "code",
   "execution_count": 52,
   "metadata": {},
   "outputs": [],
   "source": [
    "data_miss[col].replace(to_replace, inplace=True)"
   ]
  },
  {
   "source": [
    "### 21      BL_ObservationalPeriodNewCat     BL_ObservationalPeriodNewCat -> time"
   ],
   "cell_type": "markdown",
   "metadata": {}
  },
  {
   "cell_type": "code",
   "execution_count": 53,
   "metadata": {},
   "outputs": [
    {
     "output_type": "execute_result",
     "data": {
      "text/plain": [
       "1          389\n",
       "7          325\n",
       "5          306\n",
       "6          293\n",
       "8          292\n",
       "14         291\n",
       "10         288\n",
       "4          272\n",
       "2          266\n",
       "3          260\n",
       "11         246\n",
       "9          244\n",
       "12         237\n",
       "15         209\n",
       "13         208\n",
       "16         186\n",
       "17         141\n",
       "21         130\n",
       "18         123\n",
       "19         122\n",
       "22         105\n",
       "20         105\n",
       "[43;49]    103\n",
       "24          89\n",
       "25          81\n",
       "23          77\n",
       "30          71\n",
       "26          71\n",
       "27          66\n",
       "[50;56]     64\n",
       "28          56\n",
       ">=78        55\n",
       "29          49\n",
       "[57;63]     44\n",
       "36          40\n",
       "31          39\n",
       "40          36\n",
       "33          35\n",
       "35          35\n",
       "32          28\n",
       "37          28\n",
       "34          26\n",
       "[64;70]     26\n",
       "[41;42]     25\n",
       "38          23\n",
       "39          21\n",
       "[71;77]     13\n",
       "Name: BL_ObservationalPeriodNewCat, dtype: int64"
      ]
     },
     "metadata": {},
     "execution_count": 53
    }
   ],
   "source": [
    "col = \"BL_ObservationalPeriodNewCat\"\n",
    "data_miss[col].value_counts()"
   ]
  },
  {
   "cell_type": "code",
   "execution_count": 54,
   "metadata": {},
   "outputs": [
    {
     "output_type": "execute_result",
     "data": {
      "text/plain": [
       "1     389\n",
       "7     325\n",
       "5     306\n",
       "6     293\n",
       "8     292\n",
       "14    291\n",
       "10    288\n",
       "4     272\n",
       "2     266\n",
       "3     260\n",
       "11    246\n",
       "9     244\n",
       "12    237\n",
       "15    209\n",
       "13    208\n",
       "16    186\n",
       "17    141\n",
       "21    130\n",
       "18    123\n",
       "19    122\n",
       "20    105\n",
       "22    105\n",
       "43    103\n",
       "24     89\n",
       "25     81\n",
       "23     77\n",
       "26     71\n",
       "30     71\n",
       "27     66\n",
       "50     64\n",
       "28     56\n",
       "78     55\n",
       "29     49\n",
       "57     44\n",
       "36     40\n",
       "31     39\n",
       "40     36\n",
       "33     35\n",
       "35     35\n",
       "32     28\n",
       "37     28\n",
       "64     26\n",
       "34     26\n",
       "41     25\n",
       "38     23\n",
       "39     21\n",
       "71     13\n",
       "Name: BL_ObservationalPeriodNewCat, dtype: int64"
      ]
     },
     "metadata": {},
     "execution_count": 54
    }
   ],
   "source": [
    "to_replace = {\n",
    "    \"[43;49]\" : 43,\n",
    "    \"[50;56]\" : 50,\n",
    "    \">=78\" : 78,\n",
    "    \"[57;63]\" : 57,\n",
    "    \"[64;70]\" : 64,\n",
    "    \"[41;42]\" : 41,\n",
    "    \"[71;77]\" : 71,\n",
    "    }\n",
    "\n",
    "data_miss[col].replace(to_replace).value_counts()"
   ]
  },
  {
   "cell_type": "code",
   "execution_count": 55,
   "metadata": {},
   "outputs": [],
   "source": [
    "data_miss[col].replace(to_replace, inplace=True)"
   ]
  },
  {
   "source": [
    "### backcheck all cleaned columns\n",
    "\n",
    "try to convert values to `int`. if this fails, go back and clean data"
   ],
   "cell_type": "markdown",
   "metadata": {}
  },
  {
   "cell_type": "code",
   "execution_count": 56,
   "metadata": {},
   "outputs": [],
   "source": [
    "cols = [\n",
    "    \"BL_AdmissionComputedNewCat\",\n",
    "    \"BL_DaysInfectionContactNewCat\",\n",
    "    \"BL_UCstartdayNewCategories\",\n",
    "    \"BL_COstartdayNewCategories\",\n",
    "    \"BL_CRstartdayNewCategories\",\n",
    "    \"BL_REstartdayNewCategories\",\n",
    "    \"BL_Duration_InpatientstayNewCat\",\n",
    "    \"BL_Duration_ICUStayNewCat\",\n",
    "    # \"BL_Duration_IMCUstay\", # categorical\n",
    "    \"BL_Duration_VentilationNewCat\",\n",
    "    \"BL_ObservationalPeriodNewCat\",\n",
    "    ]"
   ]
  },
  {
   "cell_type": "code",
   "execution_count": 57,
   "metadata": {},
   "outputs": [
    {
     "output_type": "stream",
     "name": "stdout",
     "text": [
      "col BL_AdmissionComputedNewCat -- PASSED\ncol BL_DaysInfectionContactNewCat -- PASSED\ncol BL_UCstartdayNewCategories -- PASSED\ncol BL_COstartdayNewCategories -- PASSED\ncol BL_CRstartdayNewCategories -- PASSED\ncol BL_REstartdayNewCategories -- PASSED\ncol BL_Duration_InpatientstayNewCat -- PASSED\ncol BL_Duration_ICUStayNewCat -- PASSED\ncol BL_Duration_VentilationNewCat -- PASSED\ncol BL_ObservationalPeriodNewCat -- PASSED\n"
     ]
    }
   ],
   "source": [
    "cols_to_clean = []\n",
    "for col in cols:\n",
    "    try:\n",
    "        data_miss[col].value_counts().astype(int)\n",
    "        print(f\"col {col} -- PASSED\")\n",
    "    except ValueError:\n",
    "        cols_to_clean.append(col)\n",
    "        print(f\"col {col} -- FAILED\")"
   ]
  },
  {
   "source": [
    "# decode variables in `data_miss` with match in `lookup`"
   ],
   "cell_type": "markdown",
   "metadata": {}
  },
  {
   "cell_type": "code",
   "execution_count": 58,
   "metadata": {},
   "outputs": [
    {
     "output_type": "execute_result",
     "data": {
      "text/plain": [
       "'\\npseudocode\\n\\ncreate a copy of the data\\n\\nfor column in data:\\n    check if the column is in lookup and get the decoding\\n    replace the encodings with the decodings\\n        extract encoding column\\n        merge decoding\\n        overwrite encoding\\n\\n'"
      ]
     },
     "metadata": {},
     "execution_count": 58
    }
   ],
   "source": [
    "\"\"\"\n",
    "pseudocode\n",
    "\n",
    "create a copy of the data\n",
    "\n",
    "for column in data:\n",
    "    check if the column is in lookup and get the decoding\n",
    "    replace the encodings with the decodings\n",
    "        extract encoding column\n",
    "        merge decoding\n",
    "        overwrite encoding\n",
    "\n",
    "\"\"\""
   ]
  },
  {
   "cell_type": "code",
   "execution_count": 59,
   "metadata": {},
   "outputs": [],
   "source": [
    "data_miss.rename(dict(zip(colmap_merged.new,colmap_merged.old)), axis=1, inplace = True)"
   ]
  },
  {
   "cell_type": "code",
   "execution_count": 60,
   "metadata": {},
   "outputs": [],
   "source": [
    "def decode_variables(x : pd.DataFrame, lookup) -> pd.DataFrame:\n",
    "    x_ = x.copy()\n",
    "    x_cols = x_.columns\n",
    "    l_cols = lookup.columns\n",
    "    for i, xc in enumerate(x_cols):\n",
    "        if xc in l_cols:\n",
    "            print(f\"\\n === {i} ===\")\n",
    "            # construct mapping df\n",
    "            enc_col = xc\n",
    "            dec_col = xc + \"_B\"\n",
    "            print(f\"enc_col = {enc_col}\")\n",
    "            print(f\"dec_col = {dec_col}\")\n",
    "            enc_dec = pd.DataFrame({\"enc\" : lookup[enc_col], \"dec\" : lookup[dec_col]})\n",
    "            enc_dec.dropna(inplace=True)\n",
    "            # decode\n",
    "            to_decode = pd.DataFrame({\"enc\" : x_[enc_col].copy()})\n",
    "\n",
    "            print(to_decode)\n",
    "            print()\n",
    "            print(enc_dec)\n",
    "\n",
    "            to_decode = to_decode.merge(enc_dec, how=\"left\", on=\"enc\")\n",
    "            # replace encoding with decoding\n",
    "            x_[enc_col] = to_decode[\"dec\"]\n",
    "    return x_\n",
    "\n",
    "\n",
    "        "
   ]
  },
  {
   "cell_type": "code",
   "execution_count": 61,
   "metadata": {
    "tags": [
     "outputPrepend"
    ]
   },
   "outputs": [
    {
     "output_type": "stream",
     "name": "stdout",
     "text": [
      " ULN <= 20x ULN\n",
      "5     6.0             > 20x ULN\n",
      "6     7.0                 < LLN\n",
      "7   999.0              Not done\n",
      "8  1000.0               Unknown\n",
      "\n",
      " === 177 ===\n",
      "enc_col = dupl1_v_885\n",
      "dec_col = dupl1_v_885_B\n",
      "         enc\n",
      "0        1.0\n",
      "1     1000.0\n",
      "2     1000.0\n",
      "3        1.0\n",
      "4        1.0\n",
      "...      ...\n",
      "6452  1000.0\n",
      "6453     1.0\n",
      "6454   999.0\n",
      "6455  1000.0\n",
      "6456  1000.0\n",
      "\n",
      "[6241 rows x 1 columns]\n",
      "\n",
      "      enc                   dec\n",
      "0     1.0   Normal  (LLN - ULN)\n",
      "1     2.0       > ULN <= 2x ULN\n",
      "2     3.0    > 2x ULN <= 5x ULN\n",
      "3     4.0   > 5x ULN <= 10x ULN\n",
      "4     5.0  > 10x ULN <= 20x ULN\n",
      "5     6.0             > 20x ULN\n",
      "6     7.0                 < LLN\n",
      "7   999.0              Not done\n",
      "8  1000.0               Unknown\n",
      "\n",
      " === 178 ===\n",
      "enc_col = dupl1_v_886\n",
      "dec_col = dupl1_v_886_B\n",
      "         enc\n",
      "0        1.0\n",
      "1     1000.0\n",
      "2     1000.0\n",
      "3        1.0\n",
      "4     1000.0\n",
      "...      ...\n",
      "6452  1000.0\n",
      "6453     2.0\n",
      "6454   999.0\n",
      "6455  1000.0\n",
      "6456  1000.0\n",
      "\n",
      "[6241 rows x 1 columns]\n",
      "\n",
      "      enc                   dec\n",
      "0     1.0   Normal  (LLN - ULN)\n",
      "1     2.0       > ULN <= 2x ULN\n",
      "2     3.0    > 2x ULN <= 5x ULN\n",
      "3     4.0   > 5x ULN <= 10x ULN\n",
      "4     5.0  > 10x ULN <= 20x ULN\n",
      "5     6.0             > 20x ULN\n",
      "6     7.0                 < LLN\n",
      "7   999.0              Not done\n",
      "8  1000.0               Unknown\n",
      "\n",
      " === 179 ===\n",
      "enc_col = BL_Lab_CreatinineV2\n",
      "dec_col = BL_Lab_CreatinineV2_B\n",
      "         enc\n",
      "0        1.0\n",
      "1        1.0\n",
      "2        1.0\n",
      "3        1.0\n",
      "4        1.0\n",
      "...      ...\n",
      "6452  1000.0\n",
      "6453     3.0\n",
      "6454   999.0\n",
      "6455  1000.0\n",
      "6456  1000.0\n",
      "\n",
      "[6241 rows x 1 columns]\n",
      "\n",
      "      enc                               dec\n",
      "0     1.0               Normal  (LLN - ULN)\n",
      "1     2.0                   > ULN <= 2x ULN\n",
      "2     3.0                > 2x ULN <= 5x ULN\n",
      "3     4.0               > 5x ULN <= 10x ULN\n",
      "4     5.0  > 10x ULN <= 20x ULN & > 20x ULN\n",
      "5     7.0                             < LLN\n",
      "6   999.0                          Not done\n",
      "7  1000.0                           Unknown\n",
      "\n",
      " === 180 ===\n",
      "enc_col = BL_Lab_UreaV2\n",
      "dec_col = BL_Lab_UreaV2_B\n",
      "         enc\n",
      "0        1.0\n",
      "1        1.0\n",
      "2        1.0\n",
      "3     1000.0\n",
      "4        1.0\n",
      "...      ...\n",
      "6452  1000.0\n",
      "6453     3.0\n",
      "6454   999.0\n",
      "6455  1000.0\n",
      "6456  1000.0\n",
      "\n",
      "[6241 rows x 1 columns]\n",
      "\n",
      "      enc                                                dec\n",
      "0     1.0                                Normal  (LLN - ULN)\n",
      "1     2.0                                    > ULN <= 2x ULN\n",
      "2     3.0                                 > 2x ULN <= 5x ULN\n",
      "3     4.0  > 5x ULN <= 10x ULN & > 10x ULN <= 20x ULN & >...\n",
      "4     7.0                                              < LLN\n",
      "5   999.0                                           Not done\n",
      "6  1000.0                                            Unknown\n",
      "\n",
      " === 181 ===\n",
      "enc_col = dupl1_v_889\n",
      "dec_col = dupl1_v_889_B\n",
      "         enc\n",
      "0        1.0\n",
      "1        1.0\n",
      "2        1.0\n",
      "3        1.0\n",
      "4        1.0\n",
      "...      ...\n",
      "6452  1000.0\n",
      "6453     1.0\n",
      "6454   999.0\n",
      "6455  1000.0\n",
      "6456  1000.0\n",
      "\n",
      "[6241 rows x 1 columns]\n",
      "\n",
      "      enc                   dec\n",
      "0     1.0   Normal  (LLN - ULN)\n",
      "1     2.0       > ULN <= 2x ULN\n",
      "2     3.0    > 2x ULN <= 5x ULN\n",
      "3     4.0   > 5x ULN <= 10x ULN\n",
      "4     5.0  > 10x ULN <= 20x ULN\n",
      "5     6.0             > 20x ULN\n",
      "6     7.0                 < LLN\n",
      "7   999.0              Not done\n",
      "8  1000.0               Unknown\n",
      "\n",
      " === 182 ===\n",
      "enc_col = dupl1_v_890\n",
      "dec_col = dupl1_v_890_B\n",
      "        enc\n",
      "0       1.0\n",
      "1       7.0\n",
      "2       7.0\n",
      "3       1.0\n",
      "4       7.0\n",
      "...     ...\n",
      "6452    7.0\n",
      "6453    5.0\n",
      "6454  999.0\n",
      "6455    7.0\n",
      "6456    7.0\n",
      "\n",
      "[6241 rows x 1 columns]\n",
      "\n",
      "      enc                   dec\n",
      "0     1.0   Normal  (LLN - ULN)\n",
      "1     2.0       > ULN <= 2x ULN\n",
      "2     3.0    > 2x ULN <= 5x ULN\n",
      "3     4.0   > 5x ULN <= 10x ULN\n",
      "4     5.0  > 10x ULN <= 20x ULN\n",
      "5     6.0             > 20x ULN\n",
      "6     7.0                 < LLN\n",
      "7   999.0              Not done\n",
      "8  1000.0               Unknown\n",
      "\n",
      " === 183 ===\n",
      "enc_col = dupl1_v_1014\n",
      "dec_col = dupl1_v_1014_B\n",
      "         enc\n",
      "0        1.0\n",
      "1     1000.0\n",
      "2        1.0\n",
      "3        1.0\n",
      "4     1000.0\n",
      "...      ...\n",
      "6452  1000.0\n",
      "6453   999.0\n",
      "6454   999.0\n",
      "6455  1000.0\n",
      "6456  1000.0\n",
      "\n",
      "[6241 rows x 1 columns]\n",
      "\n",
      "      enc                   dec\n",
      "0     1.0   Normal  (LLN - ULN)\n",
      "1     2.0       > ULN <= 2x ULN\n",
      "2     3.0    > 2x ULN <= 5x ULN\n",
      "3     4.0   > 5x ULN <= 10x ULN\n",
      "4     5.0  > 10x ULN <= 20x ULN\n",
      "5     6.0             > 20x ULN\n",
      "6     7.0                 < LLN\n",
      "7   999.0              Not done\n",
      "8  1000.0               Unknown\n",
      "\n",
      " === 184 ===\n",
      "enc_col = dupl1_v_1015\n",
      "dec_col = dupl1_v_1015_B\n",
      "         enc\n",
      "0        1.0\n",
      "1     1000.0\n",
      "2     1000.0\n",
      "3        1.0\n",
      "4     1000.0\n",
      "...      ...\n",
      "6452  1000.0\n",
      "6453     1.0\n",
      "6454   999.0\n",
      "6455  1000.0\n",
      "6456  1000.0\n",
      "\n",
      "[6241 rows x 1 columns]\n",
      "\n",
      "      enc                   dec\n",
      "0     1.0   Normal  (LLN - ULN)\n",
      "1     2.0       > ULN <= 2x ULN\n",
      "2     3.0    > 2x ULN <= 5x ULN\n",
      "3     4.0   > 5x ULN <= 10x ULN\n",
      "4     5.0  > 10x ULN <= 20x ULN\n",
      "5     6.0             > 20x ULN\n",
      "6     7.0                 < LLN\n",
      "7   999.0              Not done\n",
      "8  1000.0               Unknown\n",
      "\n",
      " === 185 ===\n",
      "enc_col = v_5895\n",
      "dec_col = v_5895_B\n",
      "         enc\n",
      "0        NaN\n",
      "1        NaN\n",
      "2        NaN\n",
      "3        NaN\n",
      "4        NaN\n",
      "...      ...\n",
      "6452  1000.0\n",
      "6453     1.0\n",
      "6454   999.0\n",
      "6455  1000.0\n",
      "6456  1000.0\n",
      "\n",
      "[6241 rows x 1 columns]\n",
      "\n",
      "      enc                   dec\n",
      "0     1.0   Normal  (LLN - ULN)\n",
      "1     2.0       > ULN <= 2x ULN\n",
      "2     3.0    > 2x ULN <= 5x ULN\n",
      "3     4.0   > 5x ULN <= 10x ULN\n",
      "4     5.0  > 10x ULN <= 20x ULN\n",
      "5     6.0             > 20x ULN\n",
      "6     7.0                 < LLN\n",
      "7   999.0              Not done\n",
      "8  1000.0               Unknown\n",
      "\n",
      " === 186 ===\n",
      "enc_col = v_5896\n",
      "dec_col = v_5896_B\n",
      "         enc\n",
      "0        NaN\n",
      "1        NaN\n",
      "2        NaN\n",
      "3        NaN\n",
      "4        NaN\n",
      "...      ...\n",
      "6452  1000.0\n",
      "6453     1.0\n",
      "6454   999.0\n",
      "6455  1000.0\n",
      "6456  1000.0\n",
      "\n",
      "[6241 rows x 1 columns]\n",
      "\n",
      "      enc                   dec\n",
      "0     1.0   Normal  (LLN - ULN)\n",
      "1     2.0       > ULN <= 2x ULN\n",
      "2     3.0    > 2x ULN <= 5x ULN\n",
      "3     4.0   > 5x ULN <= 10x ULN\n",
      "4     5.0  > 10x ULN <= 20x ULN\n",
      "5     6.0             > 20x ULN\n",
      "6     7.0                 < LLN\n",
      "7   999.0              Not done\n",
      "8  1000.0               Unknown\n",
      "\n",
      " === 187 ===\n",
      "enc_col = v_5898\n",
      "dec_col = v_5898_B\n",
      "         enc\n",
      "0        NaN\n",
      "1        NaN\n",
      "2        NaN\n",
      "3        NaN\n",
      "4        NaN\n",
      "...      ...\n",
      "6452  1000.0\n",
      "6453     1.0\n",
      "6454   999.0\n",
      "6455  1000.0\n",
      "6456  1000.0\n",
      "\n",
      "[6241 rows x 1 columns]\n",
      "\n",
      "      enc                   dec\n",
      "0     1.0   Normal  (LLN - ULN)\n",
      "1     2.0       > ULN <= 2x ULN\n",
      "2     3.0    > 2x ULN <= 5x ULN\n",
      "3     4.0   > 5x ULN <= 10x ULN\n",
      "4     5.0  > 10x ULN <= 20x ULN\n",
      "5     6.0             > 20x ULN\n",
      "6     7.0                 < LLN\n",
      "7   999.0              Not done\n",
      "8  1000.0               Unknown\n",
      "\n",
      " === 188 ===\n",
      "enc_col = v_891\n",
      "dec_col = v_891_B\n",
      "       enc\n",
      "0      8.0\n",
      "1      8.0\n",
      "2      8.0\n",
      "3      7.0\n",
      "4      8.0\n",
      "...    ...\n",
      "6452  14.0\n",
      "6453   8.0\n",
      "6454   8.0\n",
      "6455  14.0\n",
      "6456  14.0\n",
      "\n",
      "[6241 rows x 1 columns]\n",
      "\n",
      "    enc                  dec\n",
      "0   6.0          < 1,000 /µL\n",
      "1   7.0     1,000 - 3999 /µL\n",
      "2   8.0    4,000 - 7,999 /µL\n",
      "3   9.0   8,000 - 11,999 /µL\n",
      "4  10.0  12,000 - 15,999 /µL\n",
      "5  11.0  16,000 - 19,999 /µL\n",
      "6  12.0        >= 20,000 /µL\n",
      "7  13.0             Not done\n",
      "8  14.0              Unknown\n",
      "\n",
      " === 189 ===\n",
      "enc_col = v_892\n",
      "dec_col = v_892_B\n",
      "       enc\n",
      "0     10.0\n",
      "1     11.0\n",
      "2     10.0\n",
      "3     10.0\n",
      "4     13.0\n",
      "...    ...\n",
      "6452   NaN\n",
      "6453  10.0\n",
      "6454   8.0\n",
      "6455   NaN\n",
      "6456  14.0\n",
      "\n",
      "[6241 rows x 1 columns]\n",
      "\n",
      "    enc                dec\n",
      "0   6.0          < 100 /µL\n",
      "1   7.0      100 - 299 /µL\n",
      "2   8.0      300 - 499 /µL\n",
      "3   9.0      500 - 799 /µL\n",
      "4  10.0     800 - 1499 /µL\n",
      "5  11.0  1,500 - 2,999 /µL\n",
      "6  12.0       >= 3,000 /µL\n",
      "7  13.0           Not done\n",
      "8  14.0            Unknown\n",
      "\n",
      " === 190 ===\n",
      "enc_col = v_893\n",
      "dec_col = v_893_B\n",
      "       enc\n",
      "0     10.0\n",
      "1     10.0\n",
      "2     10.0\n",
      "3      9.0\n",
      "4     13.0\n",
      "...    ...\n",
      "6452   NaN\n",
      "6453  10.0\n",
      "6454  11.0\n",
      "6455   NaN\n",
      "6456  14.0\n",
      "\n",
      "[6241 rows x 1 columns]\n",
      "\n",
      "    enc                dec\n",
      "0   6.0          < 100 /µL\n",
      "1   7.0      100 - 299 /µL\n",
      "2   8.0      300 - 499 /µL\n",
      "3   9.0    500 - 1,999 /µL\n",
      "4  10.0  2,000 - 4,999 /µL\n",
      "5  11.0  5,000 - 8,999 /µL\n",
      "6  12.0       >= 9,000 /µL\n",
      "7  13.0           Not done\n",
      "8  14.0            Unknown\n",
      "\n",
      " === 191 ===\n",
      "enc_col = v_894\n",
      "dec_col = v_894_B\n",
      "      enc\n",
      "0     4.0\n",
      "1     4.0\n",
      "2     4.0\n",
      "3     4.0\n",
      "4     4.0\n",
      "...   ...\n",
      "6452  NaN\n",
      "6453  4.0\n",
      "6454  4.0\n",
      "6455  NaN\n",
      "6456  9.0\n",
      "\n",
      "[6241 rows x 1 columns]\n",
      "\n",
      "   enc                      dec\n",
      "0  1.0             < 10,000 /µL\n",
      "1  2.0      10,000 - 49,999 /µL\n",
      "2  3.0     50,000 - 119,999 /µL\n",
      "3  4.0    120,000 - 449,999 /µL\n",
      "4  5.0    450,000 - 799,000 /µL\n",
      "5  6.0  800,000 - 1,199,999 /µL\n",
      "6  7.0         >= 1,200,000 /µL\n",
      "7  8.0                 Not done\n",
      "8  9.0                  Unknown\n",
      "\n",
      " === 192 ===\n",
      "enc_col = v_895\n",
      "dec_col = v_895_B\n",
      "       enc\n",
      "0     10.0\n",
      "1      9.0\n",
      "2     10.0\n",
      "3     10.0\n",
      "4     10.0\n",
      "...    ...\n",
      "6452   NaN\n",
      "6453   8.0\n",
      "6454  10.0\n",
      "6455   NaN\n",
      "6456  13.0\n",
      "\n",
      "[6241 rows x 1 columns]\n",
      "\n",
      "    enc                           dec\n",
      "0   6.0              < 6 g/dL (<3.72)\n",
      "1   7.0     6 - 7.9 g/dL (3.73 - 4.9)\n",
      "2   8.0    8 - 9.9 g/dL (4.91 - 6.15)\n",
      "3   9.0  10 - 11.9 g/dL (6.16 - 7,39)\n",
      "4  10.0   12 - 14.9 g/dL (7.4 - 9.25)\n",
      "5  11.0            >= 15 g/dL (>9.25)\n",
      "6  12.0                      Not done\n",
      "7  13.0                       Unknown\n",
      "\n",
      " === 193 ===\n",
      "enc_col = v_896\n",
      "dec_col = v_896_B\n",
      "      enc\n",
      "0     1.0\n",
      "1     1.0\n",
      "2     1.0\n",
      "3     1.0\n",
      "4     2.0\n",
      "...   ...\n",
      "6452  9.0\n",
      "6453  3.0\n",
      "6454  1.0\n",
      "6455  9.0\n",
      "6456  9.0\n",
      "\n",
      "[6241 rows x 1 columns]\n",
      "\n",
      "   enc             dec\n",
      "0  1.0        < 3 mg/L\n",
      "1  2.0      3- 29 mg/L\n",
      "2  3.0    30 - 69 mg/L\n",
      "3  4.0   70 - 119 mg/L\n",
      "4  5.0  120 - 179 mg/L\n",
      "5  6.0  180 - 249 mg/L\n",
      "6  7.0      > 249 mg/L\n",
      "7  8.0        Not done\n",
      "8  9.0         Unknown\n",
      "\n",
      " === 194 ===\n",
      "enc_col = v_2594\n",
      "dec_col = v_2594_B\n",
      "      enc\n",
      "0     8.0\n",
      "1     8.0\n",
      "2     9.0\n",
      "3     8.0\n",
      "4     NaN\n",
      "...   ...\n",
      "6452  9.0\n",
      "6453  8.0\n",
      "6454  8.0\n",
      "6455  9.0\n",
      "6456  9.0\n",
      "\n",
      "[6241 rows x 1 columns]\n",
      "\n",
      "   enc                dec\n",
      "0  1.0      < 0.005 ng/ml\n",
      "1  2.0  0.005 - 0.5 ng/ml\n",
      "2  3.0     0.51 - 2 ng/ml\n",
      "3  4.0         02.01.2010\n",
      "4  5.0         > 10 ng/ml\n",
      "5  8.0           Not done\n",
      "6  9.0            Unknown\n",
      "\n",
      " === 195 ===\n",
      "enc_col = v_897\n",
      "dec_col = v_897_B\n",
      "      enc\n",
      "0     9.0\n",
      "1     9.0\n",
      "2     9.0\n",
      "3     9.0\n",
      "4     8.0\n",
      "...   ...\n",
      "6452  9.0\n",
      "6453  8.0\n",
      "6454  8.0\n",
      "6455  9.0\n",
      "6456  9.0\n",
      "\n",
      "[6241 rows x 1 columns]\n",
      "\n",
      "   enc                dec\n",
      "0  1.0        < 1.8 pg/mL\n",
      "1  2.0         01.08.1949\n",
      "2  3.0     50 - 199 pg/mL\n",
      "3  4.0    200 - 499 pg/mL\n",
      "4  5.0    500 - 999 pg/mL\n",
      "5  6.0  1000 - 4999 pg/mL\n",
      "6  7.0       > 4999 pg/mL\n",
      "7  8.0           Not done\n",
      "8  9.0            Unknown\n",
      "\n",
      " === 196 ===\n",
      "enc_col = BL_Lab_sIL2RV2\n",
      "dec_col = BL_Lab_sIL2RV2_B\n",
      "      enc\n",
      "0     8.0\n",
      "1     9.0\n",
      "2     8.0\n",
      "3     8.0\n",
      "4     8.0\n",
      "...   ...\n",
      "6452  9.0\n",
      "6453  8.0\n",
      "6454  8.0\n",
      "6455  9.0\n",
      "6456  9.0\n",
      "\n",
      "[6241 rows x 1 columns]\n",
      "\n",
      "   enc                                  dec\n",
      "0  1.0                         < 2.500 U/ml\n",
      "1  2.0  2.500 - 10.000 U/ml & > 10.000 U/ml\n",
      "2  8.0                             Not done\n",
      "3  9.0                              Unknown\n",
      "\n",
      " === 197 ===\n",
      "enc_col = v_898\n",
      "dec_col = v_898_B\n",
      "      enc\n",
      "0     9.0\n",
      "1     9.0\n",
      "2     9.0\n",
      "3     1.0\n",
      "4     8.0\n",
      "...   ...\n",
      "6452  9.0\n",
      "6453  8.0\n",
      "6454  8.0\n",
      "6455  9.0\n",
      "6456  9.0\n",
      "\n",
      "[6241 rows x 1 columns]\n",
      "\n",
      "   enc                dec\n",
      "0  1.0        < 300 ng/ml\n",
      "1  2.0    300 - 499 ng/ml\n",
      "2  3.0    500 - 999 ng/ml\n",
      "3  4.0  1000 - 1999 ng/ml\n",
      "4  5.0  2000 - 4000 ng/ml\n",
      "5  6.0       > 4000 ng/ml\n",
      "6  8.0           Not done\n",
      "7  9.0            Unknown\n",
      "\n",
      " === 198 ===\n",
      "enc_col = v_3376\n",
      "dec_col = v_3376_B\n",
      "      enc\n",
      "0     NaN\n",
      "1     NaN\n",
      "2     NaN\n",
      "3     NaN\n",
      "4     NaN\n",
      "...   ...\n",
      "6452  6.0\n",
      "6453  1.0\n",
      "6454  5.0\n",
      "6455  6.0\n",
      "6456  6.0\n",
      "\n",
      "[6241 rows x 1 columns]\n",
      "\n",
      "   enc         dec\n",
      "0  1.0      < 1.25\n",
      "1  2.0    1.25 - 2\n",
      "2  3.0  02.03.2005\n",
      "3  4.0       > 3.5\n",
      "4  5.0    Not done\n",
      "5  6.0     Unknown\n",
      "\n",
      " === 199 ===\n",
      "enc_col = v_3508\n",
      "dec_col = v_3508_B\n",
      "      enc\n",
      "0     NaN\n",
      "1     NaN\n",
      "2     NaN\n",
      "3     NaN\n",
      "4     NaN\n",
      "...   ...\n",
      "6452  6.0\n",
      "6453  1.0\n",
      "6454  5.0\n",
      "6455  6.0\n",
      "6456  6.0\n",
      "\n",
      "[6241 rows x 1 columns]\n",
      "\n",
      "   enc        dec\n",
      "0  1.0     < 25 s\n",
      "1  2.0  25 - 39 s\n",
      "2  3.0  40 - 54 s\n",
      "3  4.0  55 - 69 s\n",
      "4  5.0   Not done\n",
      "5  6.0    Unknown\n",
      "6  7.0  70 - 84 s\n",
      "7  8.0     > 84 s\n",
      "\n",
      " === 200 ===\n",
      "enc_col = v_3538\n",
      "dec_col = v_3538_B\n",
      "      enc\n",
      "0     NaN\n",
      "1     NaN\n",
      "2     NaN\n",
      "3     NaN\n",
      "4     NaN\n",
      "...   ...\n",
      "6452  7.0\n",
      "6453  1.0\n",
      "6454  6.0\n",
      "6455  7.0\n",
      "6456  7.0\n",
      "\n",
      "[6241 rows x 1 columns]\n",
      "\n",
      "   enc                                        dec\n",
      "0  1.0                 < 200 U/l (< 3.34 nmol/sl)\n",
      "1  2.0    200 - 500 U/l     (3.34 - 8.36 nmol/sl)\n",
      "2  3.0  501 - 1000 U/l     (8.37 - 16.72 nmol/sl)\n",
      "3  4.0   1001 - 2000 U/l    (16.73-33.44 nmol/sl)\n",
      "4  5.0           > 2000 U/l     (> 33.44 nmol/sl)\n",
      "5  6.0                                   Not done\n",
      "6  7.0                                    Unknown\n",
      "\n",
      " === 201 ===\n",
      "enc_col = v_3537\n",
      "dec_col = v_3537_B\n",
      "      enc\n",
      "0     NaN\n",
      "1     NaN\n",
      "2     NaN\n",
      "3     NaN\n",
      "4     NaN\n",
      "...   ...\n",
      "6452  5.0\n",
      "6453  4.0\n",
      "6454  4.0\n",
      "6455  5.0\n",
      "6456  5.0\n",
      "\n",
      "[6241 rows x 1 columns]\n",
      "\n",
      "   enc       dec\n",
      "0  1.0     < 6 %\n",
      "1  2.0    6-25 %\n",
      "2  3.0    > 25 %\n",
      "3  4.0  Not done\n",
      "4  5.0   Unknown\n",
      "\n",
      " === 202 ===\n",
      "enc_col = v_4012\n",
      "dec_col = v_4012_B\n",
      "      enc\n",
      "0     NaN\n",
      "1     6.0\n",
      "2     NaN\n",
      "3     NaN\n",
      "4     NaN\n",
      "...   ...\n",
      "6452  7.0\n",
      "6453  4.0\n",
      "6454  6.0\n",
      "6455  7.0\n",
      "6456  7.0\n",
      "\n",
      "[6241 rows x 1 columns]\n",
      "\n",
      "   enc                dec\n",
      "0  1.0      0 - 200 pg/ml\n",
      "1  2.0    201 - 500 pg/ml\n",
      "2  3.0   501 - 1000 pg/ml\n",
      "3  4.0  1001 - 2000 pg/ml\n",
      "4  5.0       > 2000 pg/ml\n",
      "5  6.0           Not done\n",
      "6  7.0            Unknown\n",
      "\n",
      " === 203 ===\n",
      "enc_col = v_5897\n",
      "dec_col = v_5897_B\n",
      "      enc\n",
      "0     NaN\n",
      "1     NaN\n",
      "2     NaN\n",
      "3     NaN\n",
      "4     NaN\n",
      "...   ...\n",
      "6452  8.0\n",
      "6453  7.0\n",
      "6454  7.0\n",
      "6455  8.0\n",
      "6456  8.0\n",
      "\n",
      "[6241 rows x 1 columns]\n",
      "\n",
      "   enc         dec\n",
      "0  1.0      < 70 %\n",
      "1  2.0   70 - 89 %\n",
      "2  3.0  90 - 109 %\n",
      "3  4.0        110%\n",
      "4  7.0    Not done\n",
      "5  8.0     Unknown\n",
      "\n",
      " === 204 ===\n",
      "enc_col = v_3509\n",
      "dec_col = v_3509_B\n",
      "      enc\n",
      "0     NaN\n",
      "1     NaN\n",
      "2     NaN\n",
      "3     NaN\n",
      "4     NaN\n",
      "...   ...\n",
      "6452  6.0\n",
      "6453  2.0\n",
      "6454  5.0\n",
      "6455  6.0\n",
      "6456  6.0\n",
      "\n",
      "[6241 rows x 1 columns]\n",
      "\n",
      "   enc              dec\n",
      "0  1.0       < 0.3 mU/l\n",
      "1  2.0  0.3 - 4.29 mU/l\n",
      "2  3.0  4.3 - 8.29 mU/l\n",
      "3  4.0      > 8.29 mU/l\n",
      "4  5.0         Not done\n",
      "5  6.0          Unknown\n",
      "\n",
      " === 205 ===\n",
      "enc_col = BL_Lab_VitaminDV2\n",
      "dec_col = BL_Lab_VitaminDV2_B\n",
      "      enc\n",
      "0     6.0\n",
      "1     6.0\n",
      "2     6.0\n",
      "3     6.0\n",
      "4     NaN\n",
      "...   ...\n",
      "6452  7.0\n",
      "6453  6.0\n",
      "6454  6.0\n",
      "6455  7.0\n",
      "6456  7.0\n",
      "\n",
      "[6241 rows x 1 columns]\n",
      "\n",
      "   enc                                                dec\n",
      "0  1.0                          < 5 ng/ml (< 12.5 nmol/L)\n",
      "1  2.0                      5-9 ng/ml  (12.5-24.9 nmol/L)\n",
      "2  3.0                      10-19 ng/ml  (25-49.9 nmol/L)\n",
      "3  4.0                      20-39 ng/ml  (50-99.9 nmol/L)\n",
      "4  5.0  40-60 ng/ml  (100-150 nmol/L) & > 60 ng/ml  (>...\n",
      "5  6.0                                           Not done\n",
      "6  7.0                                            Unknown\n",
      "\n",
      " === 206 ===\n",
      "enc_col = v_1977\n",
      "dec_col = v_1977_B\n",
      "      enc\n",
      "0     5.0\n",
      "1     5.0\n",
      "2     5.0\n",
      "3     1.0\n",
      "4     NaN\n",
      "...   ...\n",
      "6452  7.0\n",
      "6453  1.0\n",
      "6454  6.0\n",
      "6455  7.0\n",
      "6456  7.0\n",
      "\n",
      "[6241 rows x 1 columns]\n",
      "\n",
      "   enc                      dec\n",
      "0  1.0                  Negativ\n",
      "1  2.0                Positiv +\n",
      "2  3.0               Positiv ++\n",
      "3  4.0              Positiv +++\n",
      "4  5.0  Not determined/ Unknown\n",
      "5  6.0                 Not done\n",
      "6  7.0                  Unknown\n",
      "\n",
      " === 207 ===\n",
      "enc_col = v_1978\n",
      "dec_col = v_1978_B\n",
      "      enc\n",
      "0     5.0\n",
      "1     5.0\n",
      "2     5.0\n",
      "3     1.0\n",
      "4     NaN\n",
      "...   ...\n",
      "6452  7.0\n",
      "6453  1.0\n",
      "6454  6.0\n",
      "6455  7.0\n",
      "6456  7.0\n",
      "\n",
      "[6241 rows x 1 columns]\n",
      "\n",
      "   enc                      dec\n",
      "0  1.0                  Negativ\n",
      "1  2.0                Positiv +\n",
      "2  3.0               Positiv ++\n",
      "3  4.0              Positiv +++\n",
      "4  5.0  Not determined/ Unknown\n",
      "5  6.0                 Not done\n",
      "6  7.0                  Unknown\n",
      "\n",
      " === 208 ===\n",
      "enc_col = v_1979\n",
      "dec_col = v_1979_B\n",
      "      enc\n",
      "0     5.0\n",
      "1     5.0\n",
      "2     5.0\n",
      "3     1.0\n",
      "4     NaN\n",
      "...   ...\n",
      "6452  7.0\n",
      "6453  1.0\n",
      "6454  6.0\n",
      "6455  7.0\n",
      "6456  7.0\n",
      "\n",
      "[6241 rows x 1 columns]\n",
      "\n",
      "   enc                      dec\n",
      "0  1.0                  Negativ\n",
      "1  2.0                Positiv +\n",
      "2  3.0               Positiv ++\n",
      "3  4.0              Positiv +++\n",
      "4  5.0  Not determined/ Unknown\n",
      "5  6.0                 Not done\n",
      "6  7.0                  Unknown\n",
      "\n",
      " === 209 ===\n",
      "enc_col = v_1980\n",
      "dec_col = v_1980_B\n",
      "      enc\n",
      "0     5.0\n",
      "1     5.0\n",
      "2     5.0\n",
      "3     1.0\n",
      "4     NaN\n",
      "...   ...\n",
      "6452  7.0\n",
      "6453  1.0\n",
      "6454  6.0\n",
      "6455  7.0\n",
      "6456  7.0\n",
      "\n",
      "[6241 rows x 1 columns]\n",
      "\n",
      "   enc                      dec\n",
      "0  1.0                  Negativ\n",
      "1  2.0                Positiv +\n",
      "2  3.0               Positiv ++\n",
      "3  4.0              Positiv +++\n",
      "4  5.0  Not determined/ Unknown\n",
      "5  6.0                 Not done\n",
      "6  7.0                  Unknown\n",
      "\n",
      " === 210 ===\n",
      "enc_col = v_1981\n",
      "dec_col = v_1981_B\n",
      "      enc\n",
      "0     5.0\n",
      "1     5.0\n",
      "2     5.0\n",
      "3     1.0\n",
      "4     NaN\n",
      "...   ...\n",
      "6452  7.0\n",
      "6453  1.0\n",
      "6454  6.0\n",
      "6455  7.0\n",
      "6456  7.0\n",
      "\n",
      "[6241 rows x 1 columns]\n",
      "\n",
      "   enc                      dec\n",
      "0  1.0                  Negativ\n",
      "1  2.0                Positiv +\n",
      "2  3.0               Positiv ++\n",
      "3  4.0              Positiv +++\n",
      "4  5.0  Not determined/ Unknown\n",
      "5  6.0                 Not done\n",
      "6  7.0                  Unknown\n",
      "\n",
      " === 211 ===\n",
      "enc_col = v_1982\n",
      "dec_col = v_1982_B\n",
      "      enc\n",
      "0     5.0\n",
      "1     5.0\n",
      "2     5.0\n",
      "3     1.0\n",
      "4     NaN\n",
      "...   ...\n",
      "6452  7.0\n",
      "6453  1.0\n",
      "6454  6.0\n",
      "6455  7.0\n",
      "6456  7.0\n",
      "\n",
      "[6241 rows x 1 columns]\n",
      "\n",
      "   enc                      dec\n",
      "0  1.0                  Negativ\n",
      "1  2.0                Positiv +\n",
      "2  3.0               Positiv ++\n",
      "3  4.0              Positiv +++\n",
      "4  5.0  Not determined/ Unknown\n",
      "5  6.0                 Not done\n",
      "6  7.0                  Unknown\n",
      "\n",
      " === 212 ===\n",
      "enc_col = v_1983\n",
      "dec_col = v_1983_B\n",
      "      enc\n",
      "0     5.0\n",
      "1     5.0\n",
      "2     5.0\n",
      "3     1.0\n",
      "4     NaN\n",
      "...   ...\n",
      "6452  7.0\n",
      "6453  1.0\n",
      "6454  6.0\n",
      "6455  7.0\n",
      "6456  7.0\n",
      "\n",
      "[6241 rows x 1 columns]\n",
      "\n",
      "   enc                      dec\n",
      "0  1.0                  Negativ\n",
      "1  2.0                Positiv +\n",
      "2  3.0               Positiv ++\n",
      "3  4.0              Positiv +++\n",
      "4  5.0  Not determined/ Unknown\n",
      "5  6.0                 Not done\n",
      "6  7.0                  Unknown\n",
      "\n",
      " === 213 ===\n",
      "enc_col = v_1984\n",
      "dec_col = v_1984_B\n",
      "      enc\n",
      "0     5.0\n",
      "1     5.0\n",
      "2     5.0\n",
      "3     1.0\n",
      "4     NaN\n",
      "...   ...\n",
      "6452  7.0\n",
      "6453  1.0\n",
      "6454  6.0\n",
      "6455  7.0\n",
      "6456  7.0\n",
      "\n",
      "[6241 rows x 1 columns]\n",
      "\n",
      "   enc                      dec\n",
      "0  1.0                  Negativ\n",
      "1  2.0                Positiv +\n",
      "2  3.0               Positiv ++\n",
      "3  4.0              Positiv +++\n",
      "4  5.0  Not determined/ Unknown\n",
      "5  6.0                 Not done\n",
      "6  7.0                  Unknown\n",
      "\n",
      " === 214 ===\n",
      "enc_col = v_3594\n",
      "dec_col = v_3594_B\n",
      "      enc\n",
      "0     NaN\n",
      "1     NaN\n",
      "2     NaN\n",
      "3     NaN\n",
      "4     NaN\n",
      "...   ...\n",
      "6452  NaN\n",
      "6453  NaN\n",
      "6454  NaN\n",
      "6455  NaN\n",
      "6456  2.0\n",
      "\n",
      "[6241 rows x 1 columns]\n",
      "\n",
      "   enc      dec\n",
      "0  1.0      Yes\n",
      "1  2.0       No\n",
      "2  3.0  Unknown\n",
      "\n",
      " === 215 ===\n",
      "enc_col = v_3596\n",
      "dec_col = v_3596_B\n",
      "      enc\n",
      "0     NaN\n",
      "1     NaN\n",
      "2     NaN\n",
      "3     NaN\n",
      "4     NaN\n",
      "...   ...\n",
      "6452  NaN\n",
      "6453  NaN\n",
      "6454  NaN\n",
      "6455  NaN\n",
      "6456  2.0\n",
      "\n",
      "[6241 rows x 1 columns]\n",
      "\n",
      "   enc      dec\n",
      "0  1.0      Yes\n",
      "1  2.0       No\n",
      "2  3.0  Unknown\n",
      "\n",
      " === 216 ===\n",
      "enc_col = v_3562\n",
      "dec_col = v_3562_B\n",
      "      enc\n",
      "0     NaN\n",
      "1     NaN\n",
      "2     NaN\n",
      "3     NaN\n",
      "4     NaN\n",
      "...   ...\n",
      "6452  2.0\n",
      "6453  NaN\n",
      "6454  NaN\n",
      "6455  2.0\n",
      "6456  NaN\n",
      "\n",
      "[6241 rows x 1 columns]\n",
      "\n",
      "   enc      dec\n",
      "0  1.0      Yes\n",
      "1  2.0       No\n",
      "2  3.0  Unknown\n",
      "\n",
      " === 217 ===\n",
      "enc_col = v_3563\n",
      "dec_col = v_3563_B\n",
      "      enc\n",
      "0     NaN\n",
      "1     NaN\n",
      "2     NaN\n",
      "3     NaN\n",
      "4     NaN\n",
      "...   ...\n",
      "6452  2.0\n",
      "6453  NaN\n",
      "6454  NaN\n",
      "6455  2.0\n",
      "6456  NaN\n",
      "\n",
      "[6241 rows x 1 columns]\n",
      "\n",
      "   enc      dec\n",
      "0  1.0      Yes\n",
      "1  2.0       No\n",
      "2  3.0  Unknown\n",
      "\n",
      " === 218 ===\n",
      "enc_col = v_3565\n",
      "dec_col = v_3565_B\n",
      "      enc\n",
      "0     NaN\n",
      "1     NaN\n",
      "2     NaN\n",
      "3     NaN\n",
      "4     NaN\n",
      "...   ...\n",
      "6452  2.0\n",
      "6453  NaN\n",
      "6454  NaN\n",
      "6455  2.0\n",
      "6456  NaN\n",
      "\n",
      "[6241 rows x 1 columns]\n",
      "\n",
      "   enc      dec\n",
      "0  1.0      Yes\n",
      "1  2.0       No\n",
      "2  3.0  Unknown\n",
      "\n",
      " === 219 ===\n",
      "enc_col = v_3566\n",
      "dec_col = v_3566_B\n",
      "      enc\n",
      "0     NaN\n",
      "1     NaN\n",
      "2     NaN\n",
      "3     NaN\n",
      "4     NaN\n",
      "...   ...\n",
      "6452  2.0\n",
      "6453  NaN\n",
      "6454  NaN\n",
      "6455  2.0\n",
      "6456  NaN\n",
      "\n",
      "[6241 rows x 1 columns]\n",
      "\n",
      "   enc      dec\n",
      "0  1.0      Yes\n",
      "1  2.0       No\n",
      "2  3.0  Unknown\n",
      "\n",
      " === 220 ===\n",
      "enc_col = v_3567\n",
      "dec_col = v_3567_B\n",
      "      enc\n",
      "0     NaN\n",
      "1     NaN\n",
      "2     NaN\n",
      "3     NaN\n",
      "4     NaN\n",
      "...   ...\n",
      "6452  2.0\n",
      "6453  NaN\n",
      "6454  NaN\n",
      "6455  2.0\n",
      "6456  NaN\n",
      "\n",
      "[6241 rows x 1 columns]\n",
      "\n",
      "   enc      dec\n",
      "0  1.0      Yes\n",
      "1  2.0       No\n",
      "2  3.0  Unknown\n"
     ]
    }
   ],
   "source": [
    "data_dec = decode_variables(data_miss, lookup_cleaned)"
   ]
  },
  {
   "cell_type": "code",
   "execution_count": 142,
   "metadata": {},
   "outputs": [
    {
     "output_type": "execute_result",
     "data": {
      "text/plain": [
       "5"
      ]
     },
     "metadata": {},
     "execution_count": 142
    }
   ],
   "source": []
  },
  {
   "source": [
    "# map column names back"
   ],
   "cell_type": "markdown",
   "metadata": {}
  },
  {
   "cell_type": "code",
   "execution_count": 62,
   "metadata": {},
   "outputs": [
    {
     "output_type": "execute_result",
     "data": {
      "text/plain": [
       "                            new                         old\n",
       "0                        BL_Age                      v_3176\n",
       "1                     BL_Gender                       v_341\n",
       "2                  BL_Ethnicity                       v_342\n",
       "3    BL_AdmissionComputedNewCat  BL_AdmissionComputedNewCat\n",
       "4         BL_EmergencyAdmission                      v_3078\n",
       "..                          ...                         ...\n",
       "223   CR_Compli_IntracerebBleed                      v_3562\n",
       "224    CR_Compli_IschemicStroke                      v_3563\n",
       "225               CR_Compli_CIM                      v_3565\n",
       "226               CR_Compli_CIP                      v_3566\n",
       "227           CR_Compli_Seizure                      v_3567\n",
       "\n",
       "[221 rows x 2 columns]"
      ],
      "text/html": "<div>\n<style scoped>\n    .dataframe tbody tr th:only-of-type {\n        vertical-align: middle;\n    }\n\n    .dataframe tbody tr th {\n        vertical-align: top;\n    }\n\n    .dataframe thead th {\n        text-align: right;\n    }\n</style>\n<table border=\"1\" class=\"dataframe\">\n  <thead>\n    <tr style=\"text-align: right;\">\n      <th></th>\n      <th>new</th>\n      <th>old</th>\n    </tr>\n  </thead>\n  <tbody>\n    <tr>\n      <th>0</th>\n      <td>BL_Age</td>\n      <td>v_3176</td>\n    </tr>\n    <tr>\n      <th>1</th>\n      <td>BL_Gender</td>\n      <td>v_341</td>\n    </tr>\n    <tr>\n      <th>2</th>\n      <td>BL_Ethnicity</td>\n      <td>v_342</td>\n    </tr>\n    <tr>\n      <th>3</th>\n      <td>BL_AdmissionComputedNewCat</td>\n      <td>BL_AdmissionComputedNewCat</td>\n    </tr>\n    <tr>\n      <th>4</th>\n      <td>BL_EmergencyAdmission</td>\n      <td>v_3078</td>\n    </tr>\n    <tr>\n      <th>...</th>\n      <td>...</td>\n      <td>...</td>\n    </tr>\n    <tr>\n      <th>223</th>\n      <td>CR_Compli_IntracerebBleed</td>\n      <td>v_3562</td>\n    </tr>\n    <tr>\n      <th>224</th>\n      <td>CR_Compli_IschemicStroke</td>\n      <td>v_3563</td>\n    </tr>\n    <tr>\n      <th>225</th>\n      <td>CR_Compli_CIM</td>\n      <td>v_3565</td>\n    </tr>\n    <tr>\n      <th>226</th>\n      <td>CR_Compli_CIP</td>\n      <td>v_3566</td>\n    </tr>\n    <tr>\n      <th>227</th>\n      <td>CR_Compli_Seizure</td>\n      <td>v_3567</td>\n    </tr>\n  </tbody>\n</table>\n<p>221 rows × 2 columns</p>\n</div>"
     },
     "metadata": {},
     "execution_count": 62
    }
   ],
   "source": [
    "colmap_merged"
   ]
  },
  {
   "cell_type": "code",
   "execution_count": 63,
   "metadata": {},
   "outputs": [
    {
     "output_type": "execute_result",
     "data": {
      "text/plain": [
       "          BL_Age BL_Gender              BL_Ethnicity  \\\n",
       "0  36 - 45 years    Female                   Unknown   \n",
       "1  56 - 65 years      Male  Asian & Pacific Islander   \n",
       "2  36 - 45 years    Female                   Unknown   \n",
       "3  46 - 55 years    Female                   Unknown   \n",
       "4  46 - 55 years      Male                 Caucasian   \n",
       "\n",
       "  BL_AdmissionComputedNewCat BL_EmergencyAdmission  \\\n",
       "0                          5                    No   \n",
       "1                          3                    No   \n",
       "2                          5                    No   \n",
       "3                          2                    No   \n",
       "4                        NaN                   NaN   \n",
       "\n",
       "  BL_DaysInfectionContactNewCat    BL_StageDiagnosis BL_UCstartday_bit  \\\n",
       "0                           NaN  Uncomplicated phase            quoted   \n",
       "1                            10  Uncomplicated phase            quoted   \n",
       "2                             5  Uncomplicated phase            quoted   \n",
       "3                             5  Uncomplicated phase            quoted   \n",
       "4                             3  Uncomplicated phase            quoted   \n",
       "\n",
       "  BL_UCstartdayNewCategories BL_COstartday_bit  ...    BL_Urine_KetoneBodies  \\\n",
       "0                          3        not quoted  ...  Not determined/ Unknown   \n",
       "1                          3        not quoted  ...  Not determined/ Unknown   \n",
       "2                          5        not quoted  ...  Not determined/ Unknown   \n",
       "3                          2        not quoted  ...                  Negativ   \n",
       "4                         -3        not quoted  ...                      NaN   \n",
       "\n",
       "        BL_Urine_Bilirubin    BL_Urine_Urubilinogen CO_Compli_IschemicStroke  \\\n",
       "0  Not determined/ Unknown  Not determined/ Unknown                      NaN   \n",
       "1  Not determined/ Unknown  Not determined/ Unknown                      NaN   \n",
       "2  Not determined/ Unknown  Not determined/ Unknown                      NaN   \n",
       "3                  Negativ                  Negativ                      NaN   \n",
       "4                      NaN                      NaN                      NaN   \n",
       "\n",
       "  CO_Compli_CIM CR_Compli_IntracerebBleed CR_Compli_IschemicStroke  \\\n",
       "0           NaN                       NaN                      NaN   \n",
       "1           NaN                       NaN                      NaN   \n",
       "2           NaN                       NaN                      NaN   \n",
       "3           NaN                       NaN                      NaN   \n",
       "4           NaN                       NaN                      NaN   \n",
       "\n",
       "  CR_Compli_CIM CR_Compli_CIP CR_Compli_Seizure  \n",
       "0           NaN           NaN               NaN  \n",
       "1           NaN           NaN               NaN  \n",
       "2           NaN           NaN               NaN  \n",
       "3           NaN           NaN               NaN  \n",
       "4           NaN           NaN               NaN  \n",
       "\n",
       "[5 rows x 221 columns]"
      ],
      "text/html": "<div>\n<style scoped>\n    .dataframe tbody tr th:only-of-type {\n        vertical-align: middle;\n    }\n\n    .dataframe tbody tr th {\n        vertical-align: top;\n    }\n\n    .dataframe thead th {\n        text-align: right;\n    }\n</style>\n<table border=\"1\" class=\"dataframe\">\n  <thead>\n    <tr style=\"text-align: right;\">\n      <th></th>\n      <th>BL_Age</th>\n      <th>BL_Gender</th>\n      <th>BL_Ethnicity</th>\n      <th>BL_AdmissionComputedNewCat</th>\n      <th>BL_EmergencyAdmission</th>\n      <th>BL_DaysInfectionContactNewCat</th>\n      <th>BL_StageDiagnosis</th>\n      <th>BL_UCstartday_bit</th>\n      <th>BL_UCstartdayNewCategories</th>\n      <th>BL_COstartday_bit</th>\n      <th>...</th>\n      <th>BL_Urine_KetoneBodies</th>\n      <th>BL_Urine_Bilirubin</th>\n      <th>BL_Urine_Urubilinogen</th>\n      <th>CO_Compli_IschemicStroke</th>\n      <th>CO_Compli_CIM</th>\n      <th>CR_Compli_IntracerebBleed</th>\n      <th>CR_Compli_IschemicStroke</th>\n      <th>CR_Compli_CIM</th>\n      <th>CR_Compli_CIP</th>\n      <th>CR_Compli_Seizure</th>\n    </tr>\n  </thead>\n  <tbody>\n    <tr>\n      <th>0</th>\n      <td>36 - 45 years</td>\n      <td>Female</td>\n      <td>Unknown</td>\n      <td>5</td>\n      <td>No</td>\n      <td>NaN</td>\n      <td>Uncomplicated phase</td>\n      <td>quoted</td>\n      <td>3</td>\n      <td>not quoted</td>\n      <td>...</td>\n      <td>Not determined/ Unknown</td>\n      <td>Not determined/ Unknown</td>\n      <td>Not determined/ Unknown</td>\n      <td>NaN</td>\n      <td>NaN</td>\n      <td>NaN</td>\n      <td>NaN</td>\n      <td>NaN</td>\n      <td>NaN</td>\n      <td>NaN</td>\n    </tr>\n    <tr>\n      <th>1</th>\n      <td>56 - 65 years</td>\n      <td>Male</td>\n      <td>Asian &amp; Pacific Islander</td>\n      <td>3</td>\n      <td>No</td>\n      <td>10</td>\n      <td>Uncomplicated phase</td>\n      <td>quoted</td>\n      <td>3</td>\n      <td>not quoted</td>\n      <td>...</td>\n      <td>Not determined/ Unknown</td>\n      <td>Not determined/ Unknown</td>\n      <td>Not determined/ Unknown</td>\n      <td>NaN</td>\n      <td>NaN</td>\n      <td>NaN</td>\n      <td>NaN</td>\n      <td>NaN</td>\n      <td>NaN</td>\n      <td>NaN</td>\n    </tr>\n    <tr>\n      <th>2</th>\n      <td>36 - 45 years</td>\n      <td>Female</td>\n      <td>Unknown</td>\n      <td>5</td>\n      <td>No</td>\n      <td>5</td>\n      <td>Uncomplicated phase</td>\n      <td>quoted</td>\n      <td>5</td>\n      <td>not quoted</td>\n      <td>...</td>\n      <td>Not determined/ Unknown</td>\n      <td>Not determined/ Unknown</td>\n      <td>Not determined/ Unknown</td>\n      <td>NaN</td>\n      <td>NaN</td>\n      <td>NaN</td>\n      <td>NaN</td>\n      <td>NaN</td>\n      <td>NaN</td>\n      <td>NaN</td>\n    </tr>\n    <tr>\n      <th>3</th>\n      <td>46 - 55 years</td>\n      <td>Female</td>\n      <td>Unknown</td>\n      <td>2</td>\n      <td>No</td>\n      <td>5</td>\n      <td>Uncomplicated phase</td>\n      <td>quoted</td>\n      <td>2</td>\n      <td>not quoted</td>\n      <td>...</td>\n      <td>Negativ</td>\n      <td>Negativ</td>\n      <td>Negativ</td>\n      <td>NaN</td>\n      <td>NaN</td>\n      <td>NaN</td>\n      <td>NaN</td>\n      <td>NaN</td>\n      <td>NaN</td>\n      <td>NaN</td>\n    </tr>\n    <tr>\n      <th>4</th>\n      <td>46 - 55 years</td>\n      <td>Male</td>\n      <td>Caucasian</td>\n      <td>NaN</td>\n      <td>NaN</td>\n      <td>3</td>\n      <td>Uncomplicated phase</td>\n      <td>quoted</td>\n      <td>-3</td>\n      <td>not quoted</td>\n      <td>...</td>\n      <td>NaN</td>\n      <td>NaN</td>\n      <td>NaN</td>\n      <td>NaN</td>\n      <td>NaN</td>\n      <td>NaN</td>\n      <td>NaN</td>\n      <td>NaN</td>\n      <td>NaN</td>\n      <td>NaN</td>\n    </tr>\n  </tbody>\n</table>\n<p>5 rows × 221 columns</p>\n</div>"
     },
     "metadata": {},
     "execution_count": 63
    }
   ],
   "source": [
    "data_dec = data_dec.rename(columns = dict(zip(colmap_merged.old, colmap_merged.new)))\n",
    "data_dec.head()"
   ]
  },
  {
   "source": [
    "# save cleaned and decoded data"
   ],
   "cell_type": "markdown",
   "metadata": {}
  },
  {
   "cell_type": "code",
   "execution_count": 66,
   "metadata": {},
   "outputs": [],
   "source": [
    "data_dec.to_pickle(\"../../data/processed/leoss_decoded.pkl\", compression=\"zip\")\n",
    "data_dec.to_csv(\"../../data/processed/leoss_decoded.tsv\", sep=\"\\t\")"
   ]
  },
  {
   "source": [
    "# create sweetviz plot with all variables"
   ],
   "cell_type": "markdown",
   "metadata": {}
  },
  {
   "cell_type": "code",
   "execution_count": 141,
   "metadata": {},
   "outputs": [],
   "source": [
    "# divide data into baseline and potential endpoints"
   ]
  },
  {
   "cell_type": "code",
   "execution_count": 201,
   "metadata": {},
   "outputs": [
    {
     "output_type": "execute_result",
     "data": {
      "text/plain": [
       "['BL_UCstartday_bit',\n",
       " 'BL_UCstartdayNewCategories',\n",
       " 'BL_COstartday_bit',\n",
       " 'BL_COstartdayNewCategories',\n",
       " 'BL_CRstartday_bit',\n",
       " 'BL_CRstartdayNewCategories',\n",
       " 'BL_REstartday_bit',\n",
       " 'BL_REstartdayNewCategories',\n",
       " 'BL_Duration_InpatientstayNewCat',\n",
       " 'BL_Duration_ICUStayNewCat',\n",
       " 'BL_Duration_IMCUstay',\n",
       " 'BL_Duration_VentilationNewCat',\n",
       " 'BL_ECMO',\n",
       " 'BL_LastKnownStatus',\n",
       " 'CR_Symp_Delirium',\n",
       " 'CR_Symp_DeliriumUnknown',\n",
       " 'CR_Symp_Headache',\n",
       " 'CR_Symp_HeadacheUnknown',\n",
       " 'CR_Symp_Otherneuro',\n",
       " 'CR_Symp_OtherNeuroUnknown',\n",
       " 'CR_Compli_IntracerebBleed',\n",
       " 'CR_Compli_IschemicStroke',\n",
       " 'CR_Compli_CIM',\n",
       " 'CR_Compli_CIP',\n",
       " 'CR_Compli_Seizure']"
      ]
     },
     "metadata": {},
     "execution_count": 201
    }
   ],
   "source": [
    "# potential endpoints\n",
    "c1 = data_dec.columns.str.contains(\"startday\")\n",
    "c2 = data_dec.columns.str.contains(\"Duration\")\n",
    "c3 = data_dec.columns.str.contains(\"ECMO\")\n",
    "c4 = data_dec.columns.str.contains(\"LastKnownStatus\")\n",
    "c5 = data_dec.columns.str.contains(\"^CR_\")\n",
    "c_boolmask = c1 | c2 | c3 | c4 | c5\n",
    "c_endpoints =  data_dec.columns[c_boolmask]\n",
    "list(c_endpoints)"
   ]
  },
  {
   "cell_type": "code",
   "execution_count": 202,
   "metadata": {},
   "outputs": [
    {
     "output_type": "execute_result",
     "data": {
      "text/plain": [
       "  BL_UCstartday_bit BL_UCstartdayNewCategories BL_COstartday_bit  \\\n",
       "0            quoted                          3        not quoted   \n",
       "1            quoted                          3        not quoted   \n",
       "2            quoted                          5        not quoted   \n",
       "3            quoted                          2        not quoted   \n",
       "4            quoted                         -3        not quoted   \n",
       "\n",
       "  BL_COstartdayNewCategories BL_CRstartday_bit BL_CRstartdayNewCategories  \\\n",
       "0                        NaN        not quoted                        NaN   \n",
       "1                        NaN        not quoted                        NaN   \n",
       "2                        NaN        not quoted                        NaN   \n",
       "3                        NaN        not quoted                        NaN   \n",
       "4                        NaN        not quoted                        NaN   \n",
       "\n",
       "  BL_REstartday_bit BL_REstartdayNewCategories  \\\n",
       "0        not quoted                        NaN   \n",
       "1            quoted                          5   \n",
       "2        not quoted                        NaN   \n",
       "3        not quoted                        NaN   \n",
       "4        not quoted                        NaN   \n",
       "\n",
       "  BL_Duration_InpatientstayNewCat BL_Duration_ICUStayNewCat  ...  \\\n",
       "0                              12                         0  ...   \n",
       "1                              12                         0  ...   \n",
       "2                               5                         0  ...   \n",
       "3                              11                         0  ...   \n",
       "4                               0                         0  ...   \n",
       "\n",
       "  CR_Symp_DeliriumUnknown CR_Symp_Headache CR_Symp_HeadacheUnknown  \\\n",
       "0              not quoted       not quoted              not quoted   \n",
       "1              not quoted       not quoted              not quoted   \n",
       "2              not quoted       not quoted              not quoted   \n",
       "3              not quoted       not quoted              not quoted   \n",
       "4              not quoted       not quoted              not quoted   \n",
       "\n",
       "  CR_Symp_Otherneuro CR_Symp_OtherNeuroUnknown CR_Compli_IntracerebBleed  \\\n",
       "0         not quoted                not quoted                       NaN   \n",
       "1         not quoted                not quoted                       NaN   \n",
       "2         not quoted                not quoted                       NaN   \n",
       "3         not quoted                not quoted                       NaN   \n",
       "4         not quoted                not quoted                       NaN   \n",
       "\n",
       "  CR_Compli_IschemicStroke CR_Compli_CIM CR_Compli_CIP CR_Compli_Seizure  \n",
       "0                      NaN           NaN           NaN               NaN  \n",
       "1                      NaN           NaN           NaN               NaN  \n",
       "2                      NaN           NaN           NaN               NaN  \n",
       "3                      NaN           NaN           NaN               NaN  \n",
       "4                      NaN           NaN           NaN               NaN  \n",
       "\n",
       "[5 rows x 25 columns]"
      ],
      "text/html": "<div>\n<style scoped>\n    .dataframe tbody tr th:only-of-type {\n        vertical-align: middle;\n    }\n\n    .dataframe tbody tr th {\n        vertical-align: top;\n    }\n\n    .dataframe thead th {\n        text-align: right;\n    }\n</style>\n<table border=\"1\" class=\"dataframe\">\n  <thead>\n    <tr style=\"text-align: right;\">\n      <th></th>\n      <th>BL_UCstartday_bit</th>\n      <th>BL_UCstartdayNewCategories</th>\n      <th>BL_COstartday_bit</th>\n      <th>BL_COstartdayNewCategories</th>\n      <th>BL_CRstartday_bit</th>\n      <th>BL_CRstartdayNewCategories</th>\n      <th>BL_REstartday_bit</th>\n      <th>BL_REstartdayNewCategories</th>\n      <th>BL_Duration_InpatientstayNewCat</th>\n      <th>BL_Duration_ICUStayNewCat</th>\n      <th>...</th>\n      <th>CR_Symp_DeliriumUnknown</th>\n      <th>CR_Symp_Headache</th>\n      <th>CR_Symp_HeadacheUnknown</th>\n      <th>CR_Symp_Otherneuro</th>\n      <th>CR_Symp_OtherNeuroUnknown</th>\n      <th>CR_Compli_IntracerebBleed</th>\n      <th>CR_Compli_IschemicStroke</th>\n      <th>CR_Compli_CIM</th>\n      <th>CR_Compli_CIP</th>\n      <th>CR_Compli_Seizure</th>\n    </tr>\n  </thead>\n  <tbody>\n    <tr>\n      <th>0</th>\n      <td>quoted</td>\n      <td>3</td>\n      <td>not quoted</td>\n      <td>NaN</td>\n      <td>not quoted</td>\n      <td>NaN</td>\n      <td>not quoted</td>\n      <td>NaN</td>\n      <td>12</td>\n      <td>0</td>\n      <td>...</td>\n      <td>not quoted</td>\n      <td>not quoted</td>\n      <td>not quoted</td>\n      <td>not quoted</td>\n      <td>not quoted</td>\n      <td>NaN</td>\n      <td>NaN</td>\n      <td>NaN</td>\n      <td>NaN</td>\n      <td>NaN</td>\n    </tr>\n    <tr>\n      <th>1</th>\n      <td>quoted</td>\n      <td>3</td>\n      <td>not quoted</td>\n      <td>NaN</td>\n      <td>not quoted</td>\n      <td>NaN</td>\n      <td>quoted</td>\n      <td>5</td>\n      <td>12</td>\n      <td>0</td>\n      <td>...</td>\n      <td>not quoted</td>\n      <td>not quoted</td>\n      <td>not quoted</td>\n      <td>not quoted</td>\n      <td>not quoted</td>\n      <td>NaN</td>\n      <td>NaN</td>\n      <td>NaN</td>\n      <td>NaN</td>\n      <td>NaN</td>\n    </tr>\n    <tr>\n      <th>2</th>\n      <td>quoted</td>\n      <td>5</td>\n      <td>not quoted</td>\n      <td>NaN</td>\n      <td>not quoted</td>\n      <td>NaN</td>\n      <td>not quoted</td>\n      <td>NaN</td>\n      <td>5</td>\n      <td>0</td>\n      <td>...</td>\n      <td>not quoted</td>\n      <td>not quoted</td>\n      <td>not quoted</td>\n      <td>not quoted</td>\n      <td>not quoted</td>\n      <td>NaN</td>\n      <td>NaN</td>\n      <td>NaN</td>\n      <td>NaN</td>\n      <td>NaN</td>\n    </tr>\n    <tr>\n      <th>3</th>\n      <td>quoted</td>\n      <td>2</td>\n      <td>not quoted</td>\n      <td>NaN</td>\n      <td>not quoted</td>\n      <td>NaN</td>\n      <td>not quoted</td>\n      <td>NaN</td>\n      <td>11</td>\n      <td>0</td>\n      <td>...</td>\n      <td>not quoted</td>\n      <td>not quoted</td>\n      <td>not quoted</td>\n      <td>not quoted</td>\n      <td>not quoted</td>\n      <td>NaN</td>\n      <td>NaN</td>\n      <td>NaN</td>\n      <td>NaN</td>\n      <td>NaN</td>\n    </tr>\n    <tr>\n      <th>4</th>\n      <td>quoted</td>\n      <td>-3</td>\n      <td>not quoted</td>\n      <td>NaN</td>\n      <td>not quoted</td>\n      <td>NaN</td>\n      <td>not quoted</td>\n      <td>NaN</td>\n      <td>0</td>\n      <td>0</td>\n      <td>...</td>\n      <td>not quoted</td>\n      <td>not quoted</td>\n      <td>not quoted</td>\n      <td>not quoted</td>\n      <td>not quoted</td>\n      <td>NaN</td>\n      <td>NaN</td>\n      <td>NaN</td>\n      <td>NaN</td>\n      <td>NaN</td>\n    </tr>\n  </tbody>\n</table>\n<p>5 rows × 25 columns</p>\n</div>"
     },
     "metadata": {},
     "execution_count": 202
    }
   ],
   "source": [
    "data_dec_endpoints = data_dec.filter(items = c_endpoints, axis=1)\n",
    "data_dec_endpoints.head()"
   ]
  },
  {
   "cell_type": "code",
   "execution_count": 203,
   "metadata": {},
   "outputs": [],
   "source": [
    "cols_to_int = [\n",
    "    'BL_UCstartdayNewCategories',\n",
    "    'BL_COstartdayNewCategories',\n",
    "    'BL_CRstartdayNewCategories',\n",
    "    'BL_REstartdayNewCategories',\n",
    "    'BL_Duration_InpatientstayNewCat',\n",
    "    'BL_Duration_ICUStayNewCat',\n",
    "    # 'BL_Duration_IMCUstay',\n",
    "    'BL_Duration_VentilationNewCat',\n",
    "    ]\n",
    "data_dec_endpoints[cols_to_int] = data_dec_endpoints[cols_to_int].apply(pd.to_numeric)"
   ]
  },
  {
   "cell_type": "code",
   "execution_count": 204,
   "metadata": {},
   "outputs": [],
   "source": [
    "no_endpoints = list(set(data_dec.columns) - set(c_endpoints))\n",
    "data_dec_noendpoints = data_dec.filter(items = no_endpoints, axis=1)"
   ]
  },
  {
   "cell_type": "code",
   "execution_count": 205,
   "metadata": {},
   "outputs": [
    {
     "output_type": "stream",
     "name": "stderr",
     "text": [
      "Feature: BL_Duration_ICUStayNewCat           |███▉      | [ 39%]   14:14 -> (21:59 left)\n",
      "Done! Use 'show' commands to display/save.   |██████████| [100%]   00:01 -> (00:00 left)\n",
      "Report ../../reports/leoss_swtvz_v__endpoints.html was generated! NOTEBOOK/COLAB USERS: the web browser MAY not pop up, regardless, the report IS saved in your notebook/colab files.\n"
     ]
    }
   ],
   "source": [
    "import sweetviz\n",
    "my_report = sweetviz.analyze(data_dec_endpoints, pairwise_analysis=\"on\")\n",
    "my_report.show_html(filepath = \"../../reports/leoss_swtvz_v__endpoints.html\", layout = \"vertical\")"
   ]
  },
  {
   "cell_type": "code",
   "execution_count": null,
   "metadata": {},
   "outputs": [],
   "source": []
  },
  {
   "cell_type": "code",
   "execution_count": 216,
   "metadata": {},
   "outputs": [
    {
     "output_type": "stream",
     "name": "stdout",
     "text": [
      "Index(['BL_AdmissionComputedNewCat', 'BL_ObservationalPeriodNewCat',\n       'BL_DaysInfectionContactNewCat'],\n      dtype='object')\n"
     ]
    }
   ],
   "source": [
    "d1 = data_dec_noendpoints.columns.str.contains(\"Period\")\n",
    "d2 = data_dec_noendpoints.columns.str.contains(\"Days\")\n",
    "d3 = data_dec_noendpoints.columns.str.contains(\"AdmissionComputed\")\n",
    "d = d1 | d2 | d3\n",
    "d_cnames = data_dec_noendpoints.columns[d]\n",
    "print(d_cnames)\n",
    "data_dec_noendpoints[d_cnames] = data_dec_noendpoints[d_cnames].apply(pd.to_numeric)"
   ]
  },
  {
   "cell_type": "code",
   "execution_count": 217,
   "metadata": {},
   "outputs": [
    {
     "output_type": "stream",
     "name": "stderr",
     "text": [
      "Feature: BL_ObservationalPeriodNewCat        |████████▉ | [ 89%]   04:31 -> (00:32 left)\n",
      "Done! Use 'show' commands to display/save.   |██████████| [100%]   00:48 -> (00:00 left)\n",
      "Report ../../reports/leoss_swtvz_v__data_dec_noendpoints.html was generated! NOTEBOOK/COLAB USERS: the web browser MAY not pop up, regardless, the report IS saved in your notebook/colab files.\n"
     ]
    }
   ],
   "source": [
    "\n",
    "my_report = sweetviz.analyze(data_dec_noendpoints, pairwise_analysis=\"on\")\n",
    "my_report.show_html(filepath = \"../../reports/leoss_swtvz_v__data_dec_noendpoints.html\", layout = \"vertical\")\n"
   ]
  },
  {
   "cell_type": "code",
   "execution_count": 213,
   "metadata": {},
   "outputs": [
    {
     "output_type": "execute_result",
     "data": {
      "text/plain": [
       "BL_Symp_OtherNeuro                 object\n",
       "BL_Comorb_ChronicKidneyDisease     object\n",
       "BL_Comorb_CarotidArtDisease        object\n",
       "BL_Treat_Statines                  object\n",
       "BL_Comorb_PriorNeuroDiagnosis      object\n",
       "                                    ...  \n",
       "BL_KnownColonization_Unknown       object\n",
       "BL_Symp_RedEyeUnknown              object\n",
       "BL_Comorb_DustMiteSensitization    object\n",
       "BL_Symp_ExcessiveTirednessUnkn     object\n",
       "BL_DaysInfectionContactNewCat      object\n",
       "Length: 196, dtype: object"
      ]
     },
     "metadata": {},
     "execution_count": 213
    }
   ],
   "source": [
    "data_dec_noendpoints.dtypes"
   ]
  },
  {
   "cell_type": "code",
   "execution_count": 214,
   "metadata": {},
   "outputs": [
    {
     "output_type": "execute_result",
     "data": {
      "text/plain": [
       "BL_Symp_OtherNeuro                 object\n",
       "BL_Comorb_ChronicKidneyDisease     object\n",
       "BL_Comorb_CarotidArtDisease        object\n",
       "BL_Treat_Statines                  object\n",
       "BL_Comorb_PriorNeuroDiagnosis      object\n",
       "                                    ...  \n",
       "BL_KnownColonization_Unknown       object\n",
       "BL_Symp_RedEyeUnknown              object\n",
       "BL_Comorb_DustMiteSensitization    object\n",
       "BL_Symp_ExcessiveTirednessUnkn     object\n",
       "BL_DaysInfectionContactNewCat      object\n",
       "Length: 196, dtype: object"
      ]
     },
     "metadata": {},
     "execution_count": 214
    }
   ],
   "source": [
    "data_dec_noendpoints.infer_objects().dtypes"
   ]
  }
 ]
}