{
 "cells": [
  {
   "cell_type": "markdown",
   "metadata": {},
   "source": [
    "# Identify overlap between COVID-19 KG and neurodegeneration KGs"
   ]
  },
  {
   "cell_type": "code",
   "execution_count": 1,
   "metadata": {},
   "outputs": [
    {
     "name": "stderr",
     "output_type": "stream",
     "text": [
      "/Users/danieldomingo/anaconda3/lib/python3.8/site-packages/pybel/struct/operations.py:8: TqdmExperimentalWarning: Using `tqdm.autonotebook.tqdm` in notebook mode. Use `tqdm.tqdm` instead to force console mode (e.g. in jupyter console)\n",
      "  from tqdm.autonotebook import tqdm\n"
     ]
    }
   ],
   "source": [
    "import time\n",
    "import sys\n",
    "import os\n",
    "\n",
    "from collections import defaultdict\n",
    "import csv\n",
    "import pybel\n",
    "import networkx as nx\n",
    "import pybel_tools\n",
    "from networkx import connected_components"
   ]
  },
  {
   "cell_type": "code",
   "execution_count": 2,
   "metadata": {},
   "outputs": [
    {
     "data": {
      "text/plain": [
       "'3.8.3 (default, Jul  2 2020, 11:26:31) \\n[Clang 10.0.0 ]'"
      ]
     },
     "execution_count": 2,
     "metadata": {},
     "output_type": "execute_result"
    }
   ],
   "source": [
    "sys.version"
   ]
  },
  {
   "cell_type": "code",
   "execution_count": 3,
   "metadata": {},
   "outputs": [
    {
     "data": {
      "text/plain": [
       "'Tue Oct 19 10:45:44 2021'"
      ]
     },
     "execution_count": 3,
     "metadata": {},
     "output_type": "execute_result"
    }
   ],
   "source": [
    "time.asctime()"
   ]
  },
  {
   "cell_type": "code",
   "execution_count": 4,
   "metadata": {},
   "outputs": [
    {
     "data": {
      "text/plain": [
       "'0.15.4'"
      ]
     },
     "execution_count": 4,
     "metadata": {},
     "output_type": "execute_result"
    }
   ],
   "source": [
    "pybel.get_version()"
   ]
  },
  {
   "cell_type": "code",
   "execution_count": 5,
   "metadata": {},
   "outputs": [
    {
     "data": {
      "text/plain": [
       "'0.7.2'"
      ]
     },
     "execution_count": 5,
     "metadata": {},
     "output_type": "execute_result"
    }
   ],
   "source": [
    "pybel_tools.utils.get_version()"
   ]
  },
  {
   "cell_type": "markdown",
   "metadata": {},
   "source": [
    "## Knowledge assemblies June 2018 version (AD: 5.0.5 & PD: 1.1.1)"
   ]
  },
  {
   "cell_type": "code",
   "execution_count": 6,
   "metadata": {},
   "outputs": [],
   "source": [
    "# https://raw.githubusercontent.com/neurommsig/neurommsig-knowledge/master/neurommsig_knowledge/alzheimers.bel"
   ]
  },
  {
   "cell_type": "code",
   "execution_count": 7,
   "metadata": {
    "scrolled": true
   },
   "outputs": [
    {
     "name": "stdout",
     "output_type": "stream",
     "text": [
      "alzheimers.bel:2573:6 MissingAnnotationKeyWarning \"Condition\" is not set, so it can't be unset\n",
      "alzheimers.bel:10723:6 MissingAnnotationKeyWarning \"STATEMENT_GROUP\" is not set, so it can't be unset\n"
     ]
    }
   ],
   "source": [
    "alzheimers =  pybel.from_bel_script(\n",
    "    '/Users/danieldomingo/Downloads/alzheimers.bel',\n",
    "    no_identifier_validation=True, allow_definition_failures=True\n",
    ")"
   ]
  },
  {
   "cell_type": "code",
   "execution_count": 8,
   "metadata": {},
   "outputs": [
    {
     "data": {
      "text/plain": [
       "14519"
      ]
     },
     "execution_count": 8,
     "metadata": {},
     "output_type": "execute_result"
    }
   ],
   "source": [
    "alzheimers.number_of_edges()"
   ]
  },
  {
   "cell_type": "code",
   "execution_count": null,
   "metadata": {},
   "outputs": [],
   "source": [
    "# https://raw.githubusercontent.com/neurommsig/neurommsig-knowledge/master/neurommsig_knowledge/parkinsons.bel"
   ]
  },
  {
   "cell_type": "code",
   "execution_count": 9,
   "metadata": {},
   "outputs": [],
   "source": [
    "parkinsons =  pybel.from_bel_script(\n",
    "    '/Users/danieldomingo/Downloads/parkinsons.bel',\n",
    "    no_identifier_validation=True, allow_definition_failures=True\n",
    ")"
   ]
  },
  {
   "cell_type": "code",
   "execution_count": 10,
   "metadata": {},
   "outputs": [
    {
     "data": {
      "text/plain": [
       "5279"
      ]
     },
     "execution_count": 10,
     "metadata": {},
     "output_type": "execute_result"
    }
   ],
   "source": [
    "parkinsons.number_of_edges()"
   ]
  },
  {
   "cell_type": "code",
   "execution_count": 11,
   "metadata": {},
   "outputs": [],
   "source": [
    "# https://raw.githubusercontent.com/covid19kg/covid19kg/master/covid19kg/_cache.bel.nodelink.json"
   ]
  },
  {
   "cell_type": "code",
   "execution_count": 12,
   "metadata": {
    "scrolled": true
   },
   "outputs": [],
   "source": [
    "covid_graph = pybel.from_nodelink_file('/Users/danieldomingo/Downloads/_cache.bel.nodelink.json')"
   ]
  },
  {
   "cell_type": "code",
   "execution_count": 13,
   "metadata": {},
   "outputs": [
    {
     "data": {
      "text/plain": [
       "10223"
      ]
     },
     "execution_count": 13,
     "metadata": {},
     "output_type": "execute_result"
    }
   ],
   "source": [
    "covid_graph.number_of_edges()"
   ]
  },
  {
   "cell_type": "markdown",
   "metadata": {},
   "source": [
    "Approaches\n",
    "=====\n",
    "\n",
    "1. Common edges when (subject) - (specific relationship) - (object)\n",
    "2. Common edges when (subject) - (any relationship) - (object)"
   ]
  },
  {
   "cell_type": "markdown",
   "metadata": {},
   "source": [
    "Define method to extract common relationships"
   ]
  },
  {
   "cell_type": "code",
   "execution_count": 14,
   "metadata": {},
   "outputs": [],
   "source": [
    "dementia = pybel.union([alzheimers, parkinsons])"
   ]
  },
  {
   "cell_type": "markdown",
   "metadata": {},
   "source": [
    "Collapse central dogma nodes "
   ]
  },
  {
   "cell_type": "code",
   "execution_count": 15,
   "metadata": {},
   "outputs": [],
   "source": [
    "pybel.struct.mutation.collapse_to_genes(dementia)\n",
    "pybel.struct.mutation.collapse_to_genes(covid_graph)"
   ]
  },
  {
   "cell_type": "code",
   "execution_count": 16,
   "metadata": {},
   "outputs": [],
   "source": [
    "def find_common_relationships(edges_1, edges_2, edge):\n",
    "    \"\"\"Common relations.\"\"\"\n",
    "    common_edges = {relation for relation in edges_1[edge]}.intersection(\n",
    "        {relation for relation in edges_2[edge]}\n",
    "    )\n",
    "    \n",
    "    if common_edges:\n",
    "        return common_edges, True\n",
    "    \n",
    "    return {relation for relation in edges_1[edge]}.union(\n",
    "        {relation for relation in edges_2[edge]}\n",
    "    ), False\n",
    "        \n",
    "\n",
    "def get_triples(graph):\n",
    "    triples = defaultdict(set)\n",
    "    \n",
    "    for subject_node, object_node, edge_properties in graph.edges(data=True):\n",
    "        \n",
    "        if not isinstance(subject_node, pybel.dsl.BaseAbundance) or not isinstance(object_node, pybel.dsl.BaseAbundance):\n",
    "            continue\n",
    "            \n",
    "        if subject_node.namespace == 'ncbigene':\n",
    "            subject_name = subject_node\n",
    "#         elif subject_node.namespace == 'HGNC':\n",
    "#             subject_name = subject_node.identifier\n",
    "#             print(subject_name)\n",
    "        else:\n",
    "            subject_name = subject_node\n",
    "            \n",
    "        if object_node.namespace == 'ncbigene':\n",
    "            object_name = object_node\n",
    "#         elif object_node.namespace == 'HGNC':\n",
    "#             object_name = object_node.identifier\n",
    "        else:\n",
    "            object_name = object_node\n",
    "            \n",
    "        triples[(subject_name, object_name)].add(edge_properties['relation'])\n",
    "        \n",
    "    return triples\n",
    "\n",
    "def find_common_edges_between_two_graphs(graph_1, graph_2):\n",
    "        \n",
    "    graph_1_triples = get_triples(graph_1)\n",
    "    graph_2_triples = get_triples(graph_2)\n",
    "    \n",
    "    common_edges = {}\n",
    "    \n",
    "    for (source, target) in graph_1_triples:\n",
    "        \n",
    "        if (source, target) in graph_2_triples:\n",
    "            common_edges[(source, target)] = find_common_relationships(\n",
    "                graph_1_triples, graph_2_triples, (source, target),\n",
    "            )\n",
    "    \n",
    "    return common_edges\n",
    "    "
   ]
  },
  {
   "cell_type": "markdown",
   "metadata": {},
   "source": [
    "Search specific COVID genes (https://www.nature.com/articles/d41586-021-01827-w) on the AD thingy"
   ]
  },
  {
   "cell_type": "code",
   "execution_count": 17,
   "metadata": {},
   "outputs": [],
   "source": [
    "genes = [\n",
    "    'SLC6A20',\n",
    "    'IFNAR1',\n",
    "    'IFNAR2',\n",
    "    'OAS1',\n",
    "    'OAS2',\n",
    "    'OAS3',\n",
    "    'FOXP4',\n",
    "    'DPP9',\n",
    "    'TYK2',\n",
    "]"
   ]
  },
  {
   "cell_type": "code",
   "execution_count": 18,
   "metadata": {},
   "outputs": [],
   "source": [
    "names = {\n",
    "    node.name\n",
    "    for node in dementia.nodes()\n",
    "    if isinstance(node, pybel.dsl.BaseAbundance)\n",
    "}"
   ]
  },
  {
   "cell_type": "code",
   "execution_count": 19,
   "metadata": {},
   "outputs": [
    {
     "data": {
      "text/plain": [
       "3670"
      ]
     },
     "execution_count": 19,
     "metadata": {},
     "output_type": "execute_result"
    }
   ],
   "source": [
    "len(names)"
   ]
  },
  {
   "cell_type": "code",
   "execution_count": 20,
   "metadata": {},
   "outputs": [],
   "source": [
    "for name in names:\n",
    "    if name in genes:\n",
    "        print(name)\n",
    "    "
   ]
  },
  {
   "cell_type": "code",
   "execution_count": 21,
   "metadata": {},
   "outputs": [
    {
     "name": "stdout",
     "output_type": "stream",
     "text": [
      "SLC6A3\n",
      "SLC6A11\n"
     ]
    }
   ],
   "source": [
    "for name in names:\n",
    "    if name.startswith('SLC6A'):\n",
    "        print(name)"
   ]
  },
  {
   "cell_type": "markdown",
   "metadata": {},
   "source": [
    "Calculate edges between two graphs"
   ]
  },
  {
   "cell_type": "code",
   "execution_count": 22,
   "metadata": {},
   "outputs": [],
   "source": [
    "common_edges = find_common_edges_between_two_graphs(dementia, covid_graph)"
   ]
  },
  {
   "cell_type": "code",
   "execution_count": 23,
   "metadata": {
    "scrolled": true
   },
   "outputs": [
    {
     "name": "stdout",
     "output_type": "stream",
     "text": [
      "angiotensin II vasoconstriction: ({'association', 'increases'}, False)\n",
      "losartan angiotensin receptor antagonist: ({'isA'}, True)\n",
      "losartan AGTR1: ({'association', 'decreases'}, False)\n",
      "inflammasome complex CASP1: ({'association', 'increases'}, False)\n",
      "IL10 IL6: ({'positiveCorrelation', 'increases'}, False)\n",
      "CASP1 IL1B: ({'increases'}, True)\n",
      "DDIT3 BCL2L11: ({'increases'}, True)\n",
      "DDX58 MAVS: ({'increases'}, True)\n",
      "IFIH1 MAVS: ({'increases'}, True)\n"
     ]
    }
   ],
   "source": [
    "filter_common_edges = {}\n",
    "\n",
    "for (_subject, _object), relationships in common_edges.items():\n",
    "    \n",
    "    if not relationships:\n",
    "        continue\n",
    "    \n",
    "    if len(relationships) == 1 and list(relationships)[0] in {'transcribedTo', 'translatedTo'}:\n",
    "        continue\n",
    "    \n",
    "    filter_common_edges[(_subject, _object)] = relationships\n",
    "\n",
    "    print('{} {}: {}'.format(_subject.name, _object.name, relationships))"
   ]
  },
  {
   "cell_type": "markdown",
   "metadata": {},
   "source": [
    "Export to csv "
   ]
  },
  {
   "cell_type": "code",
   "execution_count": 24,
   "metadata": {},
   "outputs": [],
   "source": [
    "def list_or_tuple(x):\n",
    "    return isinstance(x, (list, tuple))\n",
    "\n",
    "def flatten(sequence, to_expand=list_or_tuple):\n",
    "    for item in sequence:\n",
    "        if to_expand(item):\n",
    "            for subitem in flatten(item, to_expand):\n",
    "                yield subitem\n",
    "        else:\n",
    "            yield item\n",
    "            \n",
    "def node_to_string(node):\n",
    "    \"\"\"Wrapper to export node tuple to csv\"\"\"   \n",
    "    return node.as_bel()\n",
    "\n",
    "def export_results_to_csv(file_name, results, full_match=None):\n",
    "    \"\"\"Export the results to csv\n",
    "    \n",
    "    :param str file_name: name of the file\n",
    "    :param bool full_match: export only fully matching relationship with the same relationship\n",
    "    \"\"\"\n",
    "    \n",
    "    with open(file_name, 'w+', encoding='utf-8') as csvfile:\n",
    "        spamwriter = csv.writer(csvfile, delimiter=',',  quotechar='|', quoting=csv.QUOTE_MINIMAL)\n",
    "        \n",
    "        spamwriter.writerow(['Subject', 'Object', 'Common Relationships (if empty means they do not match in both diseases)'])\n",
    "        \n",
    "        for (_subject, _object), relationships in results.items():\n",
    "                        \n",
    "            if full_match and not relationships:\n",
    "                continue\n",
    "            spamwriter.writerow([_subject.name, _object.name, ' '.join(relationships[0])])\n"
   ]
  },
  {
   "cell_type": "code",
   "execution_count": 25,
   "metadata": {},
   "outputs": [],
   "source": [
    "DIR_PATH = os.path.dirname(os.path.realpath('__file__'))\n",
    "\n",
    "RESULTS = os.path.abspath(os.path.join(DIR_PATH, os.pardir))\n",
    "\n",
    "COMMON_EDGES_CSV = os.path.join(RESULTS, 'common_edges_ad_covid.csv')\n",
    "COMMON_EDGES__WITHOUT_RELATION_CSV = os.path.join(RESULTS, 'common_edges_ad_covid_without_relation_check.csv')\n",
    "\n",
    "COMMON_EDGE_GRAPHML = os.path.join(RESULTS, 'common_edges.graphml')"
   ]
  },
  {
   "cell_type": "markdown",
   "metadata": {},
   "source": [
    "Approach #1"
   ]
  },
  {
   "cell_type": "code",
   "execution_count": 26,
   "metadata": {},
   "outputs": [],
   "source": [
    "export_results_to_csv(COMMON_EDGES_CSV, filter_common_edges, full_match=True)"
   ]
  },
  {
   "cell_type": "markdown",
   "metadata": {},
   "source": [
    "Approach #2"
   ]
  },
  {
   "cell_type": "code",
   "execution_count": 27,
   "metadata": {},
   "outputs": [],
   "source": [
    "export_results_to_csv(COMMON_EDGES__WITHOUT_RELATION_CSV, filter_common_edges)"
   ]
  }
 ],
 "metadata": {
  "kernelspec": {
   "display_name": "Python 3",
   "language": "python",
   "name": "python3"
  },
  "language_info": {
   "codemirror_mode": {
    "name": "ipython",
    "version": 3
   },
   "file_extension": ".py",
   "mimetype": "text/x-python",
   "name": "python",
   "nbconvert_exporter": "python",
   "pygments_lexer": "ipython3",
   "version": "3.8.3"
  }
 },
 "nbformat": 4,
 "nbformat_minor": 2
}
